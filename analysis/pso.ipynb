{
 "cells": [
  {
   "cell_type": "code",
   "execution_count": 1,
   "metadata": {},
   "outputs": [],
   "source": [
    "schedule_names = ['fcfs-pso', 'sjf-pso', 'easy-backfill-pso']\n",
    "nombres = ' '.join(schedule_names)"
   ]
  },
  {
   "cell_type": "code",
   "execution_count": 2,
   "metadata": {},
   "outputs": [
    {
     "name": "stdout",
     "output_type": "stream",
     "text": [
      "time=\"2023-11-18 21:16:58.686\" level=info msg=\"Waiting for valid context\" batsim command=\"batsim -p platforms/small_platform.xml -w workloads/workload.json -e output/fcfs-pso/fcfs-pso\" extracted socket endpoint=\"tcp://localhost:28000\" ready timeout (seconds)=10\n",
      "time=\"2023-11-18 21:16:58.689\" level=info msg=\"Starting simulation\" batsim cmdfile=output/fcfs-pso/fcfs-pso/cmd/batsim.bash batsim command=\"batsim -p platforms/small_platform.xml -w workloads/workload.json -e output/fcfs-pso/fcfs-pso\" batsim logfile=output/fcfs-pso/fcfs-pso/log/batsim.log scheduler cmdfile=output/fcfs-pso/fcfs-pso/cmd/sched.bash scheduler command=\"python -m pybatsim --options-file configs/fcfs-pso.json schedulers/AllocOnly_sched.py\" scheduler logfile (err)=output/fcfs-pso/fcfs-pso/log/sched.err.log scheduler logfile (out)=output/fcfs-pso/fcfs-pso/log/sched.out.log simulation timeout (seconds)=604800\n",
      "time=\"2023-11-18 21:27:47.961\" level=info msg=\"Simulation subprocess succeeded\" command=\"batsim -p platforms/small_platform.xml -w workloads/workload.json -e output/fcfs-pso/fcfs-pso\" command file=output/fcfs-pso/fcfs-pso/cmd/batsim.bash process name=Batsim stderr file=output/fcfs-pso/fcfs-pso/log/batsim.log stdout file=/dev/null\n",
      "time=\"2023-11-18 21:27:47.961\" level=info msg=\"The second process might be killed soon...\" potential victim name=Scheduler success timeout (seconds)=3600\n",
      "time=\"2023-11-18 21:27:48.001\" level=info msg=\"Simulation subprocess succeeded\" command=\"python -m pybatsim --options-file configs/fcfs-pso.json schedulers/AllocOnly_sched.py\" command file=output/fcfs-pso/fcfs-pso/cmd/sched.bash process name=Scheduler stderr file=output/fcfs-pso/fcfs-pso/log/sched.err.log stdout file=output/fcfs-pso/fcfs-pso/log/sched.out.log\n",
      "time=\"2023-11-18 21:27:48.764\" level=info msg=\"Waiting for valid context\" batsim command=\"batsim -p platforms/small_platform.xml -w workloads/workload.json -e output/sjf-pso/sjf-pso\" extracted socket endpoint=\"tcp://localhost:28000\" ready timeout (seconds)=10\n",
      "time=\"2023-11-18 21:27:48.766\" level=info msg=\"Starting simulation\" batsim cmdfile=output/sjf-pso/sjf-pso/cmd/batsim.bash batsim command=\"batsim -p platforms/small_platform.xml -w workloads/workload.json -e output/sjf-pso/sjf-pso\" batsim logfile=output/sjf-pso/sjf-pso/log/batsim.log scheduler cmdfile=output/sjf-pso/sjf-pso/cmd/sched.bash scheduler command=\"python -m pybatsim --options-file configs/sjf-pso.json schedulers/AllocOnly_sched.py\" scheduler logfile (err)=output/sjf-pso/sjf-pso/log/sched.err.log scheduler logfile (out)=output/sjf-pso/sjf-pso/log/sched.out.log simulation timeout (seconds)=604800\n",
      "time=\"2023-11-18 21:39:09.991\" level=info msg=\"Simulation subprocess succeeded\" command=\"batsim -p platforms/small_platform.xml -w workloads/workload.json -e output/sjf-pso/sjf-pso\" command file=output/sjf-pso/sjf-pso/cmd/batsim.bash process name=Batsim stderr file=output/sjf-pso/sjf-pso/log/batsim.log stdout file=/dev/null\n",
      "time=\"2023-11-18 21:39:09.991\" level=info msg=\"The second process might be killed soon...\" potential victim name=Scheduler success timeout (seconds)=3600\n",
      "time=\"2023-11-18 21:39:10.031\" level=info msg=\"Simulation subprocess succeeded\" command=\"python -m pybatsim --options-file configs/sjf-pso.json schedulers/AllocOnly_sched.py\" command file=output/sjf-pso/sjf-pso/cmd/sched.bash process name=Scheduler stderr file=output/sjf-pso/sjf-pso/log/sched.err.log stdout file=output/sjf-pso/sjf-pso/log/sched.out.log\n",
      "time=\"2023-11-18 21:39:10.812\" level=info msg=\"Waiting for valid context\" batsim command=\"batsim -p platforms/small_platform.xml -w workloads/workload.json -e output/easy-backfill-pso/easy-backfill-pso\" extracted socket endpoint=\"tcp://localhost:28000\" ready timeout (seconds)=10\n",
      "time=\"2023-11-18 21:39:10.814\" level=info msg=\"Starting simulation\" batsim cmdfile=output/easy-backfill-pso/easy-backfill-pso/cmd/batsim.bash batsim command=\"batsim -p platforms/small_platform.xml -w workloads/workload.json -e output/easy-backfill-pso/easy-backfill-pso\" batsim logfile=output/easy-backfill-pso/easy-backfill-pso/log/batsim.log scheduler cmdfile=output/easy-backfill-pso/easy-backfill-pso/cmd/sched.bash scheduler command=\"python -m pybatsim --options-file configs/easy-backfill-pso.json schedulers/AllocOnly_sched.py\" scheduler logfile (err)=output/easy-backfill-pso/easy-backfill-pso/log/sched.err.log scheduler logfile (out)=output/easy-backfill-pso/easy-backfill-pso/log/sched.out.log simulation timeout (seconds)=604800\n",
      "time=\"2023-11-18 21:47:37.486\" level=info msg=\"Simulation subprocess succeeded\" command=\"batsim -p platforms/small_platform.xml -w workloads/workload.json -e output/easy-backfill-pso/easy-backfill-pso\" command file=output/easy-backfill-pso/easy-backfill-pso/cmd/batsim.bash process name=Batsim stderr file=output/easy-backfill-pso/easy-backfill-pso/log/batsim.log stdout file=/dev/null\n",
      "time=\"2023-11-18 21:47:37.486\" level=info msg=\"The second process might be killed soon...\" potential victim name=Scheduler success timeout (seconds)=3600\n",
      "time=\"2023-11-18 21:47:37.525\" level=info msg=\"Simulation subprocess succeeded\" command=\"python -m pybatsim --options-file configs/easy-backfill-pso.json schedulers/AllocOnly_sched.py\" command file=output/easy-backfill-pso/easy-backfill-pso/cmd/sched.bash process name=Scheduler stderr file=output/easy-backfill-pso/easy-backfill-pso/log/sched.err.log stdout file=output/easy-backfill-pso/easy-backfill-pso/log/sched.out.log\n"
     ]
    }
   ],
   "source": [
    "%%bash -s \"$nombres\"\n",
    "cd ..\n",
    "./utils/scripts/run-sim.sh $1"
   ]
  }
 ],
 "metadata": {
  "kernelspec": {
   "display_name": "sched-sim_3.8",
   "language": "python",
   "name": "python3"
  },
  "language_info": {
   "codemirror_mode": {
    "name": "ipython",
    "version": 3
   },
   "file_extension": ".py",
   "mimetype": "text/x-python",
   "name": "python",
   "nbconvert_exporter": "python",
   "pygments_lexer": "ipython3",
   "version": "3.8.18"
  }
 },
 "nbformat": 4,
 "nbformat_minor": 2
}
