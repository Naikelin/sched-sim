{
 "cells": [
  {
   "cell_type": "code",
   "execution_count": 4,
   "metadata": {},
   "outputs": [],
   "source": [
    "schedule_names = ['fcfs-pso', 'jfs-pso', 'easy-backfill-pso']\n",
    "nombres = ' '.join(schedule_names)"
   ]
  },
  {
   "cell_type": "code",
   "execution_count": 5,
   "metadata": {},
   "outputs": [
    {
     "name": "stdout",
     "output_type": "stream",
     "text": [
      "time=\"2023-11-18 20:48:41.073\" level=info msg=\"Waiting for valid context\" batsim command=\"batsim -p platforms/small_platform.xml -w workloads/workload.json -e output/fcfs-pso/fcfs-pso\" extracted socket endpoint=\"tcp://localhost:28000\" ready timeout (seconds)=10\n",
      "time=\"2023-11-18 20:48:41.075\" level=info msg=\"Starting simulation\" batsim cmdfile=output/fcfs-pso/fcfs-pso/cmd/batsim.bash batsim command=\"batsim -p platforms/small_platform.xml -w workloads/workload.json -e output/fcfs-pso/fcfs-pso\" batsim logfile=output/fcfs-pso/fcfs-pso/log/batsim.log scheduler cmdfile=output/fcfs-pso/fcfs-pso/cmd/sched.bash scheduler command=\"python -m pybatsim --options-file configs/fcfs-pso.json schedulers/AllocOnly_sched.py\" scheduler logfile (err)=output/fcfs-pso/fcfs-pso/log/sched.err.log scheduler logfile (out)=output/fcfs-pso/fcfs-pso/log/sched.out.log simulation timeout (seconds)=604800\n",
      "time=\"2023-11-18 20:59:51.706\" level=info msg=\"Simulation subprocess succeeded\" command=\"batsim -p platforms/small_platform.xml -w workloads/workload.json -e output/fcfs-pso/fcfs-pso\" command file=output/fcfs-pso/fcfs-pso/cmd/batsim.bash process name=Batsim stderr file=output/fcfs-pso/fcfs-pso/log/batsim.log stdout file=/dev/null\n",
      "time=\"2023-11-18 20:59:51.706\" level=info msg=\"The second process might be killed soon...\" potential victim name=Scheduler success timeout (seconds)=3600\n",
      "time=\"2023-11-18 20:59:51.765\" level=info msg=\"Simulation subprocess succeeded\" command=\"python -m pybatsim --options-file configs/fcfs-pso.json schedulers/AllocOnly_sched.py\" command file=output/fcfs-pso/fcfs-pso/cmd/sched.bash process name=Scheduler stderr file=output/fcfs-pso/fcfs-pso/log/sched.err.log stdout file=output/fcfs-pso/fcfs-pso/log/sched.out.log\n",
      "time=\"2023-11-18 20:59:52.503\" level=error msg=\"Cannot open description file\" err=\"open schedulers/jfs-pso.yaml: no such file or directory\" filename=schedulers/jfs-pso.yaml\n",
      "time=\"2023-11-18 20:59:53.354\" level=info msg=\"Waiting for valid context\" batsim command=\"batsim -p platforms/small_platform.xml -w workloads/workload.json -e output/easy-backfill-pso/easy-backfill-pso\" extracted socket endpoint=\"tcp://localhost:28000\" ready timeout (seconds)=10\n",
      "time=\"2023-11-18 20:59:53.356\" level=info msg=\"Starting simulation\" batsim cmdfile=output/easy-backfill-pso/easy-backfill-pso/cmd/batsim.bash batsim command=\"batsim -p platforms/small_platform.xml -w workloads/workload.json -e output/easy-backfill-pso/easy-backfill-pso\" batsim logfile=output/easy-backfill-pso/easy-backfill-pso/log/batsim.log scheduler cmdfile=output/easy-backfill-pso/easy-backfill-pso/cmd/sched.bash scheduler command=\"python -m pybatsim --options-file configs/easy-backfill-pso.json schedulers/AllocOnly_sched.py\" scheduler logfile (err)=output/easy-backfill-pso/easy-backfill-pso/log/sched.err.log scheduler logfile (out)=output/easy-backfill-pso/easy-backfill-pso/log/sched.out.log simulation timeout (seconds)=604800\n",
      "time=\"2023-11-18 21:09:19.254\" level=info msg=\"Simulation subprocess succeeded\" command=\"batsim -p platforms/small_platform.xml -w workloads/workload.json -e output/easy-backfill-pso/easy-backfill-pso\" command file=output/easy-backfill-pso/easy-backfill-pso/cmd/batsim.bash process name=Batsim stderr file=output/easy-backfill-pso/easy-backfill-pso/log/batsim.log stdout file=/dev/null\n",
      "time=\"2023-11-18 21:09:19.254\" level=info msg=\"The second process might be killed soon...\" potential victim name=Scheduler success timeout (seconds)=3600\n",
      "time=\"2023-11-18 21:09:19.322\" level=info msg=\"Simulation subprocess succeeded\" command=\"python -m pybatsim --options-file configs/easy-backfill-pso.json schedulers/AllocOnly_sched.py\" command file=output/easy-backfill-pso/easy-backfill-pso/cmd/sched.bash process name=Scheduler stderr file=output/easy-backfill-pso/easy-backfill-pso/log/sched.err.log stdout file=output/easy-backfill-pso/easy-backfill-pso/log/sched.out.log\n"
     ]
    }
   ],
   "source": [
    "%%bash -s \"$nombres\"\n",
    "cd ..\n",
    "./utils/scripts/run-sim.sh $1"
   ]
  }
 ],
 "metadata": {
  "kernelspec": {
   "display_name": "sched-sim_3.8",
   "language": "python",
   "name": "python3"
  },
  "language_info": {
   "codemirror_mode": {
    "name": "ipython",
    "version": 3
   },
   "file_extension": ".py",
   "mimetype": "text/x-python",
   "name": "python",
   "nbconvert_exporter": "python",
   "pygments_lexer": "ipython3",
   "version": "3.8.18"
  }
 },
 "nbformat": 4,
 "nbformat_minor": 2
}
