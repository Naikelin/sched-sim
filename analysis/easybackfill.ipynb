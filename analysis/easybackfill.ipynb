{
 "cells": [
  {
   "cell_type": "code",
   "execution_count": 1,
   "id": "2664b6b6-ff6d-4258-84f6-2f26a3347635",
   "metadata": {
    "scrolled": true,
    "tags": []
   },
   "outputs": [
    {
     "name": "stdout",
     "output_type": "stream",
     "text": [
      "Requirement already satisfied: docopt~=0.6.2 in /home/nk/.miniconda3/envs/sched-sim_3.8/lib/python3.8/site-packages (from -r requirements.txt (line 1)) (0.6.2)\n",
      "Requirement already satisfied: pyzmq~=19.0.0 in /home/nk/.miniconda3/envs/sched-sim_3.8/lib/python3.8/site-packages (from -r requirements.txt (line 2)) (19.0.2)\n",
      "Requirement already satisfied: pyyaml~=5.3.1 in /home/nk/.miniconda3/envs/sched-sim_3.8/lib/python3.8/site-packages (from -r requirements.txt (line 3)) (5.3.1)\n",
      "Requirement already satisfied: sortedcontainers~=2.2.2 in /home/nk/.miniconda3/envs/sched-sim_3.8/lib/python3.8/site-packages (from -r requirements.txt (line 4)) (2.2.2)\n",
      "Requirement already satisfied: redis~=3.4.1 in /home/nk/.miniconda3/envs/sched-sim_3.8/lib/python3.8/site-packages (from -r requirements.txt (line 5)) (3.4.1)\n",
      "Requirement already satisfied: pandas==0.25.3 in /home/nk/.miniconda3/envs/sched-sim_3.8/lib/python3.8/site-packages (from -r requirements.txt (line 6)) (0.25.3)\n",
      "Requirement already satisfied: numpy~=1.19.0 in /home/nk/.miniconda3/envs/sched-sim_3.8/lib/python3.8/site-packages (from -r requirements.txt (line 7)) (1.19.5)\n",
      "Requirement already satisfied: matplotlib~=3.1.3 in /home/nk/.miniconda3/envs/sched-sim_3.8/lib/python3.8/site-packages (from -r requirements.txt (line 8)) (3.1.3)\n",
      "Requirement already satisfied: scipy~=1.5.0 in /home/nk/.miniconda3/envs/sched-sim_3.8/lib/python3.8/site-packages (from -r requirements.txt (line 9)) (1.5.4)\n",
      "Requirement already satisfied: evalys~=4.0.5 in /home/nk/.miniconda3/envs/sched-sim_3.8/lib/python3.8/site-packages (from -r requirements.txt (line 10)) (4.0.6)\n",
      "Requirement already satisfied: jupyter~=1.0.0 in /home/nk/.miniconda3/envs/sched-sim_3.8/lib/python3.8/site-packages (from -r requirements.txt (line 11)) (1.0.0)\n",
      "Requirement already satisfied: python-dateutil>=2.6.1 in /home/nk/.miniconda3/envs/sched-sim_3.8/lib/python3.8/site-packages (from pandas==0.25.3->-r requirements.txt (line 6)) (2.8.2)\n",
      "Requirement already satisfied: pytz>=2017.2 in /home/nk/.miniconda3/envs/sched-sim_3.8/lib/python3.8/site-packages (from pandas==0.25.3->-r requirements.txt (line 6)) (2023.3.post1)\n",
      "Requirement already satisfied: cycler>=0.10 in /home/nk/.miniconda3/envs/sched-sim_3.8/lib/python3.8/site-packages (from matplotlib~=3.1.3->-r requirements.txt (line 8)) (0.12.0)\n",
      "Requirement already satisfied: kiwisolver>=1.0.1 in /home/nk/.miniconda3/envs/sched-sim_3.8/lib/python3.8/site-packages (from matplotlib~=3.1.3->-r requirements.txt (line 8)) (1.4.5)\n",
      "Requirement already satisfied: pyparsing!=2.0.4,!=2.1.2,!=2.1.6,>=2.0.1 in /home/nk/.miniconda3/envs/sched-sim_3.8/lib/python3.8/site-packages (from matplotlib~=3.1.3->-r requirements.txt (line 8)) (3.1.1)\n",
      "Requirement already satisfied: seaborn>=0.7 in /home/nk/.miniconda3/envs/sched-sim_3.8/lib/python3.8/site-packages (from evalys~=4.0.5->-r requirements.txt (line 10)) (0.12.2)\n",
      "Requirement already satisfied: procset>=0.1.dev1 in /home/nk/.miniconda3/envs/sched-sim_3.8/lib/python3.8/site-packages (from evalys~=4.0.5->-r requirements.txt (line 10)) (1.0)\n",
      "Requirement already satisfied: notebook in /home/nk/.miniconda3/envs/sched-sim_3.8/lib/python3.8/site-packages (from jupyter~=1.0.0->-r requirements.txt (line 11)) (6.5.6)\n",
      "Requirement already satisfied: qtconsole in /home/nk/.miniconda3/envs/sched-sim_3.8/lib/python3.8/site-packages (from jupyter~=1.0.0->-r requirements.txt (line 11)) (5.4.4)\n",
      "Requirement already satisfied: jupyter-console in /home/nk/.miniconda3/envs/sched-sim_3.8/lib/python3.8/site-packages (from jupyter~=1.0.0->-r requirements.txt (line 11)) (6.6.2)\n",
      "Requirement already satisfied: nbconvert in /home/nk/.miniconda3/envs/sched-sim_3.8/lib/python3.8/site-packages (from jupyter~=1.0.0->-r requirements.txt (line 11)) (7.8.0)\n",
      "Requirement already satisfied: ipykernel in /home/nk/.miniconda3/envs/sched-sim_3.8/lib/python3.8/site-packages (from jupyter~=1.0.0->-r requirements.txt (line 11)) (6.19.2)\n",
      "Requirement already satisfied: ipywidgets in /home/nk/.miniconda3/envs/sched-sim_3.8/lib/python3.8/site-packages (from jupyter~=1.0.0->-r requirements.txt (line 11)) (8.1.1)\n",
      "Requirement already satisfied: six>=1.5 in /home/nk/.miniconda3/envs/sched-sim_3.8/lib/python3.8/site-packages (from python-dateutil>=2.6.1->pandas==0.25.3->-r requirements.txt (line 6)) (1.16.0)\n",
      "Requirement already satisfied: comm>=0.1.1 in /home/nk/.miniconda3/envs/sched-sim_3.8/lib/python3.8/site-packages (from ipykernel->jupyter~=1.0.0->-r requirements.txt (line 11)) (0.1.4)\n",
      "Requirement already satisfied: debugpy>=1.0 in /home/nk/.miniconda3/envs/sched-sim_3.8/lib/python3.8/site-packages (from ipykernel->jupyter~=1.0.0->-r requirements.txt (line 11)) (1.5.1)\n",
      "Requirement already satisfied: ipython>=7.23.1 in /home/nk/.miniconda3/envs/sched-sim_3.8/lib/python3.8/site-packages (from ipykernel->jupyter~=1.0.0->-r requirements.txt (line 11)) (8.8.0)\n",
      "Requirement already satisfied: jupyter-client>=6.1.12 in /home/nk/.miniconda3/envs/sched-sim_3.8/lib/python3.8/site-packages (from ipykernel->jupyter~=1.0.0->-r requirements.txt (line 11)) (7.2.0)\n",
      "Requirement already satisfied: matplotlib-inline>=0.1 in /home/nk/.miniconda3/envs/sched-sim_3.8/lib/python3.8/site-packages (from ipykernel->jupyter~=1.0.0->-r requirements.txt (line 11)) (0.1.6)\n",
      "Requirement already satisfied: nest-asyncio in /home/nk/.miniconda3/envs/sched-sim_3.8/lib/python3.8/site-packages (from ipykernel->jupyter~=1.0.0->-r requirements.txt (line 11)) (1.5.6)\n",
      "Requirement already satisfied: packaging in /home/nk/.miniconda3/envs/sched-sim_3.8/lib/python3.8/site-packages (from ipykernel->jupyter~=1.0.0->-r requirements.txt (line 11)) (23.1)\n",
      "Requirement already satisfied: psutil in /home/nk/.miniconda3/envs/sched-sim_3.8/lib/python3.8/site-packages (from ipykernel->jupyter~=1.0.0->-r requirements.txt (line 11)) (5.9.0)\n",
      "Requirement already satisfied: tornado>=6.1 in /home/nk/.miniconda3/envs/sched-sim_3.8/lib/python3.8/site-packages (from ipykernel->jupyter~=1.0.0->-r requirements.txt (line 11)) (6.2)\n",
      "Requirement already satisfied: traitlets>=5.4.0 in /home/nk/.miniconda3/envs/sched-sim_3.8/lib/python3.8/site-packages (from ipykernel->jupyter~=1.0.0->-r requirements.txt (line 11)) (5.7.1)\n",
      "Requirement already satisfied: widgetsnbextension~=4.0.9 in /home/nk/.miniconda3/envs/sched-sim_3.8/lib/python3.8/site-packages (from ipywidgets->jupyter~=1.0.0->-r requirements.txt (line 11)) (4.0.9)\n",
      "Requirement already satisfied: jupyterlab-widgets~=3.0.9 in /home/nk/.miniconda3/envs/sched-sim_3.8/lib/python3.8/site-packages (from ipywidgets->jupyter~=1.0.0->-r requirements.txt (line 11)) (3.0.9)\n",
      "Requirement already satisfied: jupyter-core!=5.0.*,>=4.12 in /home/nk/.miniconda3/envs/sched-sim_3.8/lib/python3.8/site-packages (from jupyter-console->jupyter~=1.0.0->-r requirements.txt (line 11)) (5.1.1)\n",
      "Requirement already satisfied: prompt-toolkit>=3.0.30 in /home/nk/.miniconda3/envs/sched-sim_3.8/lib/python3.8/site-packages (from jupyter-console->jupyter~=1.0.0->-r requirements.txt (line 11)) (3.0.36)\n",
      "Requirement already satisfied: pygments in /home/nk/.miniconda3/envs/sched-sim_3.8/lib/python3.8/site-packages (from jupyter-console->jupyter~=1.0.0->-r requirements.txt (line 11)) (2.11.2)\n",
      "Requirement already satisfied: beautifulsoup4 in /home/nk/.miniconda3/envs/sched-sim_3.8/lib/python3.8/site-packages (from nbconvert->jupyter~=1.0.0->-r requirements.txt (line 11)) (4.12.2)\n",
      "Requirement already satisfied: bleach!=5.0.0 in /home/nk/.miniconda3/envs/sched-sim_3.8/lib/python3.8/site-packages (from nbconvert->jupyter~=1.0.0->-r requirements.txt (line 11)) (6.0.0)\n",
      "Requirement already satisfied: defusedxml in /home/nk/.miniconda3/envs/sched-sim_3.8/lib/python3.8/site-packages (from nbconvert->jupyter~=1.0.0->-r requirements.txt (line 11)) (0.7.1)\n",
      "Requirement already satisfied: importlib-metadata>=3.6 in /home/nk/.miniconda3/envs/sched-sim_3.8/lib/python3.8/site-packages (from nbconvert->jupyter~=1.0.0->-r requirements.txt (line 11)) (6.8.0)\n",
      "Requirement already satisfied: jinja2>=3.0 in /home/nk/.miniconda3/envs/sched-sim_3.8/lib/python3.8/site-packages (from nbconvert->jupyter~=1.0.0->-r requirements.txt (line 11)) (3.1.2)\n",
      "Requirement already satisfied: jupyterlab-pygments in /home/nk/.miniconda3/envs/sched-sim_3.8/lib/python3.8/site-packages (from nbconvert->jupyter~=1.0.0->-r requirements.txt (line 11)) (0.2.2)\n",
      "Requirement already satisfied: markupsafe>=2.0 in /home/nk/.miniconda3/envs/sched-sim_3.8/lib/python3.8/site-packages (from nbconvert->jupyter~=1.0.0->-r requirements.txt (line 11)) (2.1.3)\n",
      "Requirement already satisfied: mistune<4,>=2.0.3 in /home/nk/.miniconda3/envs/sched-sim_3.8/lib/python3.8/site-packages (from nbconvert->jupyter~=1.0.0->-r requirements.txt (line 11)) (3.0.1)\n",
      "Requirement already satisfied: nbclient>=0.5.0 in /home/nk/.miniconda3/envs/sched-sim_3.8/lib/python3.8/site-packages (from nbconvert->jupyter~=1.0.0->-r requirements.txt (line 11)) (0.8.0)\n",
      "Requirement already satisfied: nbformat>=5.7 in /home/nk/.miniconda3/envs/sched-sim_3.8/lib/python3.8/site-packages (from nbconvert->jupyter~=1.0.0->-r requirements.txt (line 11)) (5.9.2)\n",
      "Requirement already satisfied: pandocfilters>=1.4.1 in /home/nk/.miniconda3/envs/sched-sim_3.8/lib/python3.8/site-packages (from nbconvert->jupyter~=1.0.0->-r requirements.txt (line 11)) (1.5.0)\n",
      "Requirement already satisfied: tinycss2 in /home/nk/.miniconda3/envs/sched-sim_3.8/lib/python3.8/site-packages (from nbconvert->jupyter~=1.0.0->-r requirements.txt (line 11)) (1.2.1)\n",
      "Requirement already satisfied: argon2-cffi in /home/nk/.miniconda3/envs/sched-sim_3.8/lib/python3.8/site-packages (from notebook->jupyter~=1.0.0->-r requirements.txt (line 11)) (23.1.0)\n",
      "Requirement already satisfied: ipython-genutils in /home/nk/.miniconda3/envs/sched-sim_3.8/lib/python3.8/site-packages (from notebook->jupyter~=1.0.0->-r requirements.txt (line 11)) (0.2.0)\n",
      "Requirement already satisfied: Send2Trash>=1.8.0 in /home/nk/.miniconda3/envs/sched-sim_3.8/lib/python3.8/site-packages (from notebook->jupyter~=1.0.0->-r requirements.txt (line 11)) (1.8.2)\n",
      "Requirement already satisfied: terminado>=0.8.3 in /home/nk/.miniconda3/envs/sched-sim_3.8/lib/python3.8/site-packages (from notebook->jupyter~=1.0.0->-r requirements.txt (line 11)) (0.17.1)\n",
      "Requirement already satisfied: prometheus-client in /home/nk/.miniconda3/envs/sched-sim_3.8/lib/python3.8/site-packages (from notebook->jupyter~=1.0.0->-r requirements.txt (line 11)) (0.17.1)\n",
      "Requirement already satisfied: nbclassic>=0.4.7 in /home/nk/.miniconda3/envs/sched-sim_3.8/lib/python3.8/site-packages (from notebook->jupyter~=1.0.0->-r requirements.txt (line 11)) (1.0.0)\n",
      "Requirement already satisfied: qtpy>=2.4.0 in /home/nk/.miniconda3/envs/sched-sim_3.8/lib/python3.8/site-packages (from qtconsole->jupyter~=1.0.0->-r requirements.txt (line 11)) (2.4.0)\n",
      "Requirement already satisfied: webencodings in /home/nk/.miniconda3/envs/sched-sim_3.8/lib/python3.8/site-packages (from bleach!=5.0.0->nbconvert->jupyter~=1.0.0->-r requirements.txt (line 11)) (0.5.1)\n",
      "Requirement already satisfied: zipp>=0.5 in /home/nk/.miniconda3/envs/sched-sim_3.8/lib/python3.8/site-packages (from importlib-metadata>=3.6->nbconvert->jupyter~=1.0.0->-r requirements.txt (line 11)) (3.17.0)\n",
      "Requirement already satisfied: backcall in /home/nk/.miniconda3/envs/sched-sim_3.8/lib/python3.8/site-packages (from ipython>=7.23.1->ipykernel->jupyter~=1.0.0->-r requirements.txt (line 11)) (0.2.0)\n",
      "Requirement already satisfied: decorator in /home/nk/.miniconda3/envs/sched-sim_3.8/lib/python3.8/site-packages (from ipython>=7.23.1->ipykernel->jupyter~=1.0.0->-r requirements.txt (line 11)) (5.1.1)\n",
      "Requirement already satisfied: jedi>=0.16 in /home/nk/.miniconda3/envs/sched-sim_3.8/lib/python3.8/site-packages (from ipython>=7.23.1->ipykernel->jupyter~=1.0.0->-r requirements.txt (line 11)) (0.18.1)\n",
      "Requirement already satisfied: pickleshare in /home/nk/.miniconda3/envs/sched-sim_3.8/lib/python3.8/site-packages (from ipython>=7.23.1->ipykernel->jupyter~=1.0.0->-r requirements.txt (line 11)) (0.7.5)\n",
      "Requirement already satisfied: stack-data in /home/nk/.miniconda3/envs/sched-sim_3.8/lib/python3.8/site-packages (from ipython>=7.23.1->ipykernel->jupyter~=1.0.0->-r requirements.txt (line 11)) (0.2.0)\n",
      "Requirement already satisfied: pexpect>4.3 in /home/nk/.miniconda3/envs/sched-sim_3.8/lib/python3.8/site-packages (from ipython>=7.23.1->ipykernel->jupyter~=1.0.0->-r requirements.txt (line 11)) (4.8.0)\n",
      "Requirement already satisfied: entrypoints in /home/nk/.miniconda3/envs/sched-sim_3.8/lib/python3.8/site-packages (from jupyter-client>=6.1.12->ipykernel->jupyter~=1.0.0->-r requirements.txt (line 11)) (0.4)\n",
      "Requirement already satisfied: platformdirs>=2.5 in /home/nk/.miniconda3/envs/sched-sim_3.8/lib/python3.8/site-packages (from jupyter-core!=5.0.*,>=4.12->jupyter-console->jupyter~=1.0.0->-r requirements.txt (line 11)) (2.5.2)\n",
      "Requirement already satisfied: jupyter-server>=1.8 in /home/nk/.miniconda3/envs/sched-sim_3.8/lib/python3.8/site-packages (from nbclassic>=0.4.7->notebook->jupyter~=1.0.0->-r requirements.txt (line 11)) (1.24.0)\n",
      "Requirement already satisfied: notebook-shim>=0.2.3 in /home/nk/.miniconda3/envs/sched-sim_3.8/lib/python3.8/site-packages (from nbclassic>=0.4.7->notebook->jupyter~=1.0.0->-r requirements.txt (line 11)) (0.2.3)\n",
      "Requirement already satisfied: fastjsonschema in /home/nk/.miniconda3/envs/sched-sim_3.8/lib/python3.8/site-packages (from nbformat>=5.7->nbconvert->jupyter~=1.0.0->-r requirements.txt (line 11)) (2.18.0)\n",
      "Requirement already satisfied: jsonschema>=2.6 in /home/nk/.miniconda3/envs/sched-sim_3.8/lib/python3.8/site-packages (from nbformat>=5.7->nbconvert->jupyter~=1.0.0->-r requirements.txt (line 11)) (4.19.1)\n",
      "Requirement already satisfied: wcwidth in /home/nk/.miniconda3/envs/sched-sim_3.8/lib/python3.8/site-packages (from prompt-toolkit>=3.0.30->jupyter-console->jupyter~=1.0.0->-r requirements.txt (line 11)) (0.2.5)\n",
      "Requirement already satisfied: ptyprocess in /home/nk/.miniconda3/envs/sched-sim_3.8/lib/python3.8/site-packages (from terminado>=0.8.3->notebook->jupyter~=1.0.0->-r requirements.txt (line 11)) (0.7.0)\n",
      "Requirement already satisfied: argon2-cffi-bindings in /home/nk/.miniconda3/envs/sched-sim_3.8/lib/python3.8/site-packages (from argon2-cffi->notebook->jupyter~=1.0.0->-r requirements.txt (line 11)) (21.2.0)\n",
      "Requirement already satisfied: soupsieve>1.2 in /home/nk/.miniconda3/envs/sched-sim_3.8/lib/python3.8/site-packages (from beautifulsoup4->nbconvert->jupyter~=1.0.0->-r requirements.txt (line 11)) (2.5)\n",
      "Requirement already satisfied: parso<0.9.0,>=0.8.0 in /home/nk/.miniconda3/envs/sched-sim_3.8/lib/python3.8/site-packages (from jedi>=0.16->ipython>=7.23.1->ipykernel->jupyter~=1.0.0->-r requirements.txt (line 11)) (0.8.3)\n",
      "Requirement already satisfied: attrs>=22.2.0 in /home/nk/.miniconda3/envs/sched-sim_3.8/lib/python3.8/site-packages (from jsonschema>=2.6->nbformat>=5.7->nbconvert->jupyter~=1.0.0->-r requirements.txt (line 11)) (23.1.0)\n",
      "Requirement already satisfied: importlib-resources>=1.4.0 in /home/nk/.miniconda3/envs/sched-sim_3.8/lib/python3.8/site-packages (from jsonschema>=2.6->nbformat>=5.7->nbconvert->jupyter~=1.0.0->-r requirements.txt (line 11)) (6.1.0)\n",
      "Requirement already satisfied: jsonschema-specifications>=2023.03.6 in /home/nk/.miniconda3/envs/sched-sim_3.8/lib/python3.8/site-packages (from jsonschema>=2.6->nbformat>=5.7->nbconvert->jupyter~=1.0.0->-r requirements.txt (line 11)) (2023.7.1)\n",
      "Requirement already satisfied: pkgutil-resolve-name>=1.3.10 in /home/nk/.miniconda3/envs/sched-sim_3.8/lib/python3.8/site-packages (from jsonschema>=2.6->nbformat>=5.7->nbconvert->jupyter~=1.0.0->-r requirements.txt (line 11)) (1.3.10)\n",
      "Requirement already satisfied: referencing>=0.28.4 in /home/nk/.miniconda3/envs/sched-sim_3.8/lib/python3.8/site-packages (from jsonschema>=2.6->nbformat>=5.7->nbconvert->jupyter~=1.0.0->-r requirements.txt (line 11)) (0.30.2)\n",
      "Requirement already satisfied: rpds-py>=0.7.1 in /home/nk/.miniconda3/envs/sched-sim_3.8/lib/python3.8/site-packages (from jsonschema>=2.6->nbformat>=5.7->nbconvert->jupyter~=1.0.0->-r requirements.txt (line 11)) (0.10.3)\n",
      "Requirement already satisfied: anyio<4,>=3.1.0 in /home/nk/.miniconda3/envs/sched-sim_3.8/lib/python3.8/site-packages (from jupyter-server>=1.8->nbclassic>=0.4.7->notebook->jupyter~=1.0.0->-r requirements.txt (line 11)) (3.7.1)\n",
      "Requirement already satisfied: websocket-client in /home/nk/.miniconda3/envs/sched-sim_3.8/lib/python3.8/site-packages (from jupyter-server>=1.8->nbclassic>=0.4.7->notebook->jupyter~=1.0.0->-r requirements.txt (line 11)) (1.6.3)\n",
      "Requirement already satisfied: cffi>=1.0.1 in /home/nk/.miniconda3/envs/sched-sim_3.8/lib/python3.8/site-packages (from argon2-cffi-bindings->argon2-cffi->notebook->jupyter~=1.0.0->-r requirements.txt (line 11)) (1.15.0)\n",
      "Requirement already satisfied: executing in /home/nk/.miniconda3/envs/sched-sim_3.8/lib/python3.8/site-packages (from stack-data->ipython>=7.23.1->ipykernel->jupyter~=1.0.0->-r requirements.txt (line 11)) (0.8.3)\n",
      "Requirement already satisfied: asttokens in /home/nk/.miniconda3/envs/sched-sim_3.8/lib/python3.8/site-packages (from stack-data->ipython>=7.23.1->ipykernel->jupyter~=1.0.0->-r requirements.txt (line 11)) (2.0.5)\n",
      "Requirement already satisfied: pure-eval in /home/nk/.miniconda3/envs/sched-sim_3.8/lib/python3.8/site-packages (from stack-data->ipython>=7.23.1->ipykernel->jupyter~=1.0.0->-r requirements.txt (line 11)) (0.2.2)\n",
      "Requirement already satisfied: idna>=2.8 in /home/nk/.miniconda3/envs/sched-sim_3.8/lib/python3.8/site-packages (from anyio<4,>=3.1.0->jupyter-server>=1.8->nbclassic>=0.4.7->notebook->jupyter~=1.0.0->-r requirements.txt (line 11)) (3.4)\n",
      "Requirement already satisfied: sniffio>=1.1 in /home/nk/.miniconda3/envs/sched-sim_3.8/lib/python3.8/site-packages (from anyio<4,>=3.1.0->jupyter-server>=1.8->nbclassic>=0.4.7->notebook->jupyter~=1.0.0->-r requirements.txt (line 11)) (1.3.0)\n",
      "Requirement already satisfied: exceptiongroup in /home/nk/.miniconda3/envs/sched-sim_3.8/lib/python3.8/site-packages (from anyio<4,>=3.1.0->jupyter-server>=1.8->nbclassic>=0.4.7->notebook->jupyter~=1.0.0->-r requirements.txt (line 11)) (1.1.3)\n",
      "Requirement already satisfied: pycparser in /home/nk/.miniconda3/envs/sched-sim_3.8/lib/python3.8/site-packages (from cffi>=1.0.1->argon2-cffi-bindings->argon2-cffi->notebook->jupyter~=1.0.0->-r requirements.txt (line 11)) (2.21)\n",
      "Note: you may need to restart the kernel to use updated packages.\n"
     ]
    }
   ],
   "source": [
    "%pip install -r requirements.txt"
   ]
  },
  {
   "cell_type": "code",
   "execution_count": 2,
   "id": "b87a0a7b-1f70-4c82-8ed3-2b90e7d21e5d",
   "metadata": {
    "scrolled": true,
    "tags": []
   },
   "outputs": [],
   "source": [
    "CSV_PATH= \"../output/fcfs/easybackfill_jobs.csv\""
   ]
  },
  {
   "cell_type": "code",
   "execution_count": 3,
   "id": "87dd7fa1-e7f0-4824-8edc-1b46bfd1e2bf",
   "metadata": {
    "tags": []
   },
   "outputs": [
    {
     "ename": "FileNotFoundError",
     "evalue": "[Errno 2] File b'../output/fcfs/easybackfill_jobs.csv' does not exist: b'../output/fcfs/easybackfill_jobs.csv'",
     "output_type": "error",
     "traceback": [
      "\u001b[0;31m---------------------------------------------------------------------------\u001b[0m",
      "\u001b[0;31mFileNotFoundError\u001b[0m                         Traceback (most recent call last)",
      "\u001b[1;32m/home/nk/sched-sim/analysis/easybackfill.ipynb Cell 3\u001b[0m line \u001b[0;36m5\n\u001b[1;32m      <a href='vscode-notebook-cell://wsl%2Bubuntu/home/nk/sched-sim/analysis/easybackfill.ipynb#W2sdnNjb2RlLXJlbW90ZQ%3D%3D?line=1'>2</a>\u001b[0m \u001b[39mimport\u001b[39;00m \u001b[39mos\u001b[39;00m\n\u001b[1;32m      <a href='vscode-notebook-cell://wsl%2Bubuntu/home/nk/sched-sim/analysis/easybackfill.ipynb#W2sdnNjb2RlLXJlbW90ZQ%3D%3D?line=2'>3</a>\u001b[0m \u001b[39mimport\u001b[39;00m \u001b[39mmatplotlib\u001b[39;00m\u001b[39m.\u001b[39;00m\u001b[39mpyplot\u001b[39;00m \u001b[39mas\u001b[39;00m \u001b[39mplt\u001b[39;00m\n\u001b[0;32m----> <a href='vscode-notebook-cell://wsl%2Bubuntu/home/nk/sched-sim/analysis/easybackfill.ipynb#W2sdnNjb2RlLXJlbW90ZQ%3D%3D?line=4'>5</a>\u001b[0m js \u001b[39m=\u001b[39m JobSet\u001b[39m.\u001b[39;49mfrom_csv(CSV_PATH)\n\u001b[1;32m      <a href='vscode-notebook-cell://wsl%2Bubuntu/home/nk/sched-sim/analysis/easybackfill.ipynb#W2sdnNjb2RlLXJlbW90ZQ%3D%3D?line=5'>6</a>\u001b[0m js\u001b[39m.\u001b[39mplot(with_details\u001b[39m=\u001b[39m\u001b[39mTrue\u001b[39;00m)\n\u001b[1;32m      <a href='vscode-notebook-cell://wsl%2Bubuntu/home/nk/sched-sim/analysis/easybackfill.ipynb#W2sdnNjb2RlLXJlbW90ZQ%3D%3D?line=6'>7</a>\u001b[0m plt\u001b[39m.\u001b[39mshow()\n",
      "File \u001b[0;32m~/.miniconda3/envs/sched-sim_3.8/lib/python3.8/site-packages/evalys/jobset.py:129\u001b[0m, in \u001b[0;36mJobSet.from_csv\u001b[0;34m(cls, filename, resource_bounds)\u001b[0m\n\u001b[1;32m    127\u001b[0m \u001b[39m@classmethod\u001b[39m\n\u001b[1;32m    128\u001b[0m \u001b[39mdef\u001b[39;00m \u001b[39mfrom_csv\u001b[39m(\u001b[39mcls\u001b[39m, filename, resource_bounds\u001b[39m=\u001b[39m\u001b[39mNone\u001b[39;00m):\n\u001b[0;32m--> 129\u001b[0m     df \u001b[39m=\u001b[39m pd\u001b[39m.\u001b[39;49mread_csv(filename, converters\u001b[39m=\u001b[39;49m\u001b[39mcls\u001b[39;49m\u001b[39m.\u001b[39;49m__converters)\n\u001b[1;32m    130\u001b[0m     \u001b[39mreturn\u001b[39;00m \u001b[39mcls\u001b[39m(df, resource_bounds\u001b[39m=\u001b[39mresource_bounds)\n",
      "File \u001b[0;32m~/.miniconda3/envs/sched-sim_3.8/lib/python3.8/site-packages/pandas/io/parsers.py:685\u001b[0m, in \u001b[0;36m_make_parser_function.<locals>.parser_f\u001b[0;34m(filepath_or_buffer, sep, delimiter, header, names, index_col, usecols, squeeze, prefix, mangle_dupe_cols, dtype, engine, converters, true_values, false_values, skipinitialspace, skiprows, skipfooter, nrows, na_values, keep_default_na, na_filter, verbose, skip_blank_lines, parse_dates, infer_datetime_format, keep_date_col, date_parser, dayfirst, cache_dates, iterator, chunksize, compression, thousands, decimal, lineterminator, quotechar, quoting, doublequote, escapechar, comment, encoding, dialect, error_bad_lines, warn_bad_lines, delim_whitespace, low_memory, memory_map, float_precision)\u001b[0m\n\u001b[1;32m    632\u001b[0m     engine_specified \u001b[39m=\u001b[39m \u001b[39mFalse\u001b[39;00m\n\u001b[1;32m    634\u001b[0m kwds\u001b[39m.\u001b[39mupdate(\n\u001b[1;32m    635\u001b[0m     delimiter\u001b[39m=\u001b[39mdelimiter,\n\u001b[1;32m    636\u001b[0m     engine\u001b[39m=\u001b[39mengine,\n\u001b[0;32m   (...)\u001b[0m\n\u001b[1;32m    682\u001b[0m     skip_blank_lines\u001b[39m=\u001b[39mskip_blank_lines,\n\u001b[1;32m    683\u001b[0m )\n\u001b[0;32m--> 685\u001b[0m \u001b[39mreturn\u001b[39;00m _read(filepath_or_buffer, kwds)\n",
      "File \u001b[0;32m~/.miniconda3/envs/sched-sim_3.8/lib/python3.8/site-packages/pandas/io/parsers.py:457\u001b[0m, in \u001b[0;36m_read\u001b[0;34m(filepath_or_buffer, kwds)\u001b[0m\n\u001b[1;32m    454\u001b[0m _validate_names(kwds\u001b[39m.\u001b[39mget(\u001b[39m\"\u001b[39m\u001b[39mnames\u001b[39m\u001b[39m\"\u001b[39m, \u001b[39mNone\u001b[39;00m))\n\u001b[1;32m    456\u001b[0m \u001b[39m# Create the parser.\u001b[39;00m\n\u001b[0;32m--> 457\u001b[0m parser \u001b[39m=\u001b[39m TextFileReader(fp_or_buf, \u001b[39m*\u001b[39;49m\u001b[39m*\u001b[39;49mkwds)\n\u001b[1;32m    459\u001b[0m \u001b[39mif\u001b[39;00m chunksize \u001b[39mor\u001b[39;00m iterator:\n\u001b[1;32m    460\u001b[0m     \u001b[39mreturn\u001b[39;00m parser\n",
      "File \u001b[0;32m~/.miniconda3/envs/sched-sim_3.8/lib/python3.8/site-packages/pandas/io/parsers.py:895\u001b[0m, in \u001b[0;36mTextFileReader.__init__\u001b[0;34m(self, f, engine, **kwds)\u001b[0m\n\u001b[1;32m    892\u001b[0m \u001b[39mif\u001b[39;00m \u001b[39m\"\u001b[39m\u001b[39mhas_index_names\u001b[39m\u001b[39m\"\u001b[39m \u001b[39min\u001b[39;00m kwds:\n\u001b[1;32m    893\u001b[0m     \u001b[39mself\u001b[39m\u001b[39m.\u001b[39moptions[\u001b[39m\"\u001b[39m\u001b[39mhas_index_names\u001b[39m\u001b[39m\"\u001b[39m] \u001b[39m=\u001b[39m kwds[\u001b[39m\"\u001b[39m\u001b[39mhas_index_names\u001b[39m\u001b[39m\"\u001b[39m]\n\u001b[0;32m--> 895\u001b[0m \u001b[39mself\u001b[39;49m\u001b[39m.\u001b[39;49m_make_engine(\u001b[39mself\u001b[39;49m\u001b[39m.\u001b[39;49mengine)\n",
      "File \u001b[0;32m~/.miniconda3/envs/sched-sim_3.8/lib/python3.8/site-packages/pandas/io/parsers.py:1135\u001b[0m, in \u001b[0;36mTextFileReader._make_engine\u001b[0;34m(self, engine)\u001b[0m\n\u001b[1;32m   1133\u001b[0m \u001b[39mdef\u001b[39;00m \u001b[39m_make_engine\u001b[39m(\u001b[39mself\u001b[39m, engine\u001b[39m=\u001b[39m\u001b[39m\"\u001b[39m\u001b[39mc\u001b[39m\u001b[39m\"\u001b[39m):\n\u001b[1;32m   1134\u001b[0m     \u001b[39mif\u001b[39;00m engine \u001b[39m==\u001b[39m \u001b[39m\"\u001b[39m\u001b[39mc\u001b[39m\u001b[39m\"\u001b[39m:\n\u001b[0;32m-> 1135\u001b[0m         \u001b[39mself\u001b[39m\u001b[39m.\u001b[39m_engine \u001b[39m=\u001b[39m CParserWrapper(\u001b[39mself\u001b[39;49m\u001b[39m.\u001b[39;49mf, \u001b[39m*\u001b[39;49m\u001b[39m*\u001b[39;49m\u001b[39mself\u001b[39;49m\u001b[39m.\u001b[39;49moptions)\n\u001b[1;32m   1136\u001b[0m     \u001b[39melse\u001b[39;00m:\n\u001b[1;32m   1137\u001b[0m         \u001b[39mif\u001b[39;00m engine \u001b[39m==\u001b[39m \u001b[39m\"\u001b[39m\u001b[39mpython\u001b[39m\u001b[39m\"\u001b[39m:\n",
      "File \u001b[0;32m~/.miniconda3/envs/sched-sim_3.8/lib/python3.8/site-packages/pandas/io/parsers.py:1917\u001b[0m, in \u001b[0;36mCParserWrapper.__init__\u001b[0;34m(self, src, **kwds)\u001b[0m\n\u001b[1;32m   1914\u001b[0m \u001b[39mself\u001b[39m\u001b[39m.\u001b[39musecols, \u001b[39mself\u001b[39m\u001b[39m.\u001b[39musecols_dtype \u001b[39m=\u001b[39m _validate_usecols_arg(kwds[\u001b[39m\"\u001b[39m\u001b[39musecols\u001b[39m\u001b[39m\"\u001b[39m])\n\u001b[1;32m   1915\u001b[0m kwds[\u001b[39m\"\u001b[39m\u001b[39musecols\u001b[39m\u001b[39m\"\u001b[39m] \u001b[39m=\u001b[39m \u001b[39mself\u001b[39m\u001b[39m.\u001b[39musecols\n\u001b[0;32m-> 1917\u001b[0m \u001b[39mself\u001b[39m\u001b[39m.\u001b[39m_reader \u001b[39m=\u001b[39m parsers\u001b[39m.\u001b[39;49mTextReader(src, \u001b[39m*\u001b[39;49m\u001b[39m*\u001b[39;49mkwds)\n\u001b[1;32m   1918\u001b[0m \u001b[39mself\u001b[39m\u001b[39m.\u001b[39munnamed_cols \u001b[39m=\u001b[39m \u001b[39mself\u001b[39m\u001b[39m.\u001b[39m_reader\u001b[39m.\u001b[39munnamed_cols\n\u001b[1;32m   1920\u001b[0m passed_names \u001b[39m=\u001b[39m \u001b[39mself\u001b[39m\u001b[39m.\u001b[39mnames \u001b[39mis\u001b[39;00m \u001b[39mNone\u001b[39;00m\n",
      "File \u001b[0;32mpandas/_libs/parsers.pyx:382\u001b[0m, in \u001b[0;36mpandas._libs.parsers.TextReader.__cinit__\u001b[0;34m()\u001b[0m\n",
      "File \u001b[0;32mpandas/_libs/parsers.pyx:689\u001b[0m, in \u001b[0;36mpandas._libs.parsers.TextReader._setup_parser_source\u001b[0;34m()\u001b[0m\n",
      "\u001b[0;31mFileNotFoundError\u001b[0m: [Errno 2] File b'../output/fcfs/easybackfill_jobs.csv' does not exist: b'../output/fcfs/easybackfill_jobs.csv'"
     ]
    }
   ],
   "source": [
    "from evalys.jobset import JobSet\n",
    "import matplotlib.pyplot as plt\n",
    "\n",
    "js = JobSet.from_csv(CSV_PATH)\n",
    "js.plot(with_details=True)\n",
    "plt.show()"
   ]
  },
  {
   "cell_type": "code",
   "execution_count": null,
   "id": "f11e8280-36b8-4a5f-b3f6-99b7c14cd050",
   "metadata": {},
   "outputs": [],
   "source": []
  }
 ],
 "metadata": {
  "kernelspec": {
   "display_name": "Python 3 (ipykernel)",
   "language": "python",
   "name": "python3"
  },
  "language_info": {
   "codemirror_mode": {
    "name": "ipython",
    "version": 3
   },
   "file_extension": ".py",
   "mimetype": "text/x-python",
   "name": "python",
   "nbconvert_exporter": "python",
   "pygments_lexer": "ipython3",
   "version": "3.8.18"
  }
 },
 "nbformat": 4,
 "nbformat_minor": 5
}
