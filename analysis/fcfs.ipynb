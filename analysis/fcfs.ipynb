{
 "cells": [
  {
   "cell_type": "code",
   "execution_count": 1,
   "id": "2664b6b6-ff6d-4258-84f6-2f26a3347635",
   "metadata": {
    "scrolled": true,
    "tags": []
   },
   "outputs": [
    {
     "name": "stdout",
     "output_type": "stream",
     "text": [
      "Requirement already satisfied: docopt~=0.6.2 in /home/nk/.miniconda3/envs/sched-sim_3.8/lib/python3.8/site-packages (from -r requirements.txt (line 1)) (0.6.2)\n",
      "Requirement already satisfied: pyzmq~=19.0.0 in /home/nk/.miniconda3/envs/sched-sim_3.8/lib/python3.8/site-packages (from -r requirements.txt (line 2)) (19.0.2)\n",
      "Requirement already satisfied: pyyaml~=5.3.1 in /home/nk/.miniconda3/envs/sched-sim_3.8/lib/python3.8/site-packages (from -r requirements.txt (line 3)) (5.3.1)\n",
      "Requirement already satisfied: sortedcontainers~=2.2.2 in /home/nk/.miniconda3/envs/sched-sim_3.8/lib/python3.8/site-packages (from -r requirements.txt (line 4)) (2.2.2)\n",
      "Requirement already satisfied: redis~=3.4.1 in /home/nk/.miniconda3/envs/sched-sim_3.8/lib/python3.8/site-packages (from -r requirements.txt (line 5)) (3.4.1)\n",
      "Requirement already satisfied: pandas==0.25.3 in /home/nk/.miniconda3/envs/sched-sim_3.8/lib/python3.8/site-packages (from -r requirements.txt (line 6)) (0.25.3)\n",
      "Requirement already satisfied: numpy~=1.19.0 in /home/nk/.miniconda3/envs/sched-sim_3.8/lib/python3.8/site-packages (from -r requirements.txt (line 7)) (1.19.5)\n",
      "Requirement already satisfied: matplotlib~=3.1.3 in /home/nk/.miniconda3/envs/sched-sim_3.8/lib/python3.8/site-packages (from -r requirements.txt (line 8)) (3.1.3)\n",
      "Requirement already satisfied: scipy~=1.5.0 in /home/nk/.miniconda3/envs/sched-sim_3.8/lib/python3.8/site-packages (from -r requirements.txt (line 9)) (1.5.4)\n",
      "Requirement already satisfied: evalys~=4.0.5 in /home/nk/.miniconda3/envs/sched-sim_3.8/lib/python3.8/site-packages (from -r requirements.txt (line 10)) (4.0.6)\n",
      "Requirement already satisfied: jupyter~=1.0.0 in /home/nk/.miniconda3/envs/sched-sim_3.8/lib/python3.8/site-packages (from -r requirements.txt (line 11)) (1.0.0)\n",
      "Requirement already satisfied: python-dateutil>=2.6.1 in /home/nk/.miniconda3/envs/sched-sim_3.8/lib/python3.8/site-packages (from pandas==0.25.3->-r requirements.txt (line 6)) (2.8.2)\n",
      "Requirement already satisfied: pytz>=2017.2 in /home/nk/.miniconda3/envs/sched-sim_3.8/lib/python3.8/site-packages (from pandas==0.25.3->-r requirements.txt (line 6)) (2023.3.post1)\n",
      "Requirement already satisfied: cycler>=0.10 in /home/nk/.miniconda3/envs/sched-sim_3.8/lib/python3.8/site-packages (from matplotlib~=3.1.3->-r requirements.txt (line 8)) (0.12.0)\n",
      "Requirement already satisfied: kiwisolver>=1.0.1 in /home/nk/.miniconda3/envs/sched-sim_3.8/lib/python3.8/site-packages (from matplotlib~=3.1.3->-r requirements.txt (line 8)) (1.4.5)\n",
      "Requirement already satisfied: pyparsing!=2.0.4,!=2.1.2,!=2.1.6,>=2.0.1 in /home/nk/.miniconda3/envs/sched-sim_3.8/lib/python3.8/site-packages (from matplotlib~=3.1.3->-r requirements.txt (line 8)) (3.1.1)\n",
      "Requirement already satisfied: seaborn>=0.7 in /home/nk/.miniconda3/envs/sched-sim_3.8/lib/python3.8/site-packages (from evalys~=4.0.5->-r requirements.txt (line 10)) (0.12.2)\n",
      "Requirement already satisfied: procset>=0.1.dev1 in /home/nk/.miniconda3/envs/sched-sim_3.8/lib/python3.8/site-packages (from evalys~=4.0.5->-r requirements.txt (line 10)) (1.0)\n",
      "Requirement already satisfied: notebook in /home/nk/.miniconda3/envs/sched-sim_3.8/lib/python3.8/site-packages (from jupyter~=1.0.0->-r requirements.txt (line 11)) (6.5.6)\n",
      "Requirement already satisfied: qtconsole in /home/nk/.miniconda3/envs/sched-sim_3.8/lib/python3.8/site-packages (from jupyter~=1.0.0->-r requirements.txt (line 11)) (5.4.4)\n",
      "Requirement already satisfied: jupyter-console in /home/nk/.miniconda3/envs/sched-sim_3.8/lib/python3.8/site-packages (from jupyter~=1.0.0->-r requirements.txt (line 11)) (6.6.2)\n",
      "Requirement already satisfied: nbconvert in /home/nk/.miniconda3/envs/sched-sim_3.8/lib/python3.8/site-packages (from jupyter~=1.0.0->-r requirements.txt (line 11)) (7.8.0)\n",
      "Requirement already satisfied: ipykernel in /home/nk/.miniconda3/envs/sched-sim_3.8/lib/python3.8/site-packages (from jupyter~=1.0.0->-r requirements.txt (line 11)) (6.19.2)\n",
      "Requirement already satisfied: ipywidgets in /home/nk/.miniconda3/envs/sched-sim_3.8/lib/python3.8/site-packages (from jupyter~=1.0.0->-r requirements.txt (line 11)) (8.1.1)\n",
      "Requirement already satisfied: six>=1.5 in /home/nk/.miniconda3/envs/sched-sim_3.8/lib/python3.8/site-packages (from python-dateutil>=2.6.1->pandas==0.25.3->-r requirements.txt (line 6)) (1.16.0)\n",
      "Requirement already satisfied: comm>=0.1.1 in /home/nk/.miniconda3/envs/sched-sim_3.8/lib/python3.8/site-packages (from ipykernel->jupyter~=1.0.0->-r requirements.txt (line 11)) (0.1.4)\n",
      "Requirement already satisfied: debugpy>=1.0 in /home/nk/.miniconda3/envs/sched-sim_3.8/lib/python3.8/site-packages (from ipykernel->jupyter~=1.0.0->-r requirements.txt (line 11)) (1.5.1)\n",
      "Requirement already satisfied: ipython>=7.23.1 in /home/nk/.miniconda3/envs/sched-sim_3.8/lib/python3.8/site-packages (from ipykernel->jupyter~=1.0.0->-r requirements.txt (line 11)) (8.8.0)\n",
      "Requirement already satisfied: jupyter-client>=6.1.12 in /home/nk/.miniconda3/envs/sched-sim_3.8/lib/python3.8/site-packages (from ipykernel->jupyter~=1.0.0->-r requirements.txt (line 11)) (7.2.0)\n",
      "Requirement already satisfied: matplotlib-inline>=0.1 in /home/nk/.miniconda3/envs/sched-sim_3.8/lib/python3.8/site-packages (from ipykernel->jupyter~=1.0.0->-r requirements.txt (line 11)) (0.1.6)\n",
      "Requirement already satisfied: nest-asyncio in /home/nk/.miniconda3/envs/sched-sim_3.8/lib/python3.8/site-packages (from ipykernel->jupyter~=1.0.0->-r requirements.txt (line 11)) (1.5.6)\n",
      "Requirement already satisfied: packaging in /home/nk/.miniconda3/envs/sched-sim_3.8/lib/python3.8/site-packages (from ipykernel->jupyter~=1.0.0->-r requirements.txt (line 11)) (23.1)\n",
      "Requirement already satisfied: psutil in /home/nk/.miniconda3/envs/sched-sim_3.8/lib/python3.8/site-packages (from ipykernel->jupyter~=1.0.0->-r requirements.txt (line 11)) (5.9.0)\n",
      "Requirement already satisfied: tornado>=6.1 in /home/nk/.miniconda3/envs/sched-sim_3.8/lib/python3.8/site-packages (from ipykernel->jupyter~=1.0.0->-r requirements.txt (line 11)) (6.2)\n",
      "Requirement already satisfied: traitlets>=5.4.0 in /home/nk/.miniconda3/envs/sched-sim_3.8/lib/python3.8/site-packages (from ipykernel->jupyter~=1.0.0->-r requirements.txt (line 11)) (5.7.1)\n",
      "Requirement already satisfied: widgetsnbextension~=4.0.9 in /home/nk/.miniconda3/envs/sched-sim_3.8/lib/python3.8/site-packages (from ipywidgets->jupyter~=1.0.0->-r requirements.txt (line 11)) (4.0.9)\n",
      "Requirement already satisfied: jupyterlab-widgets~=3.0.9 in /home/nk/.miniconda3/envs/sched-sim_3.8/lib/python3.8/site-packages (from ipywidgets->jupyter~=1.0.0->-r requirements.txt (line 11)) (3.0.9)\n",
      "Requirement already satisfied: jupyter-core!=5.0.*,>=4.12 in /home/nk/.miniconda3/envs/sched-sim_3.8/lib/python3.8/site-packages (from jupyter-console->jupyter~=1.0.0->-r requirements.txt (line 11)) (5.1.1)\n",
      "Requirement already satisfied: prompt-toolkit>=3.0.30 in /home/nk/.miniconda3/envs/sched-sim_3.8/lib/python3.8/site-packages (from jupyter-console->jupyter~=1.0.0->-r requirements.txt (line 11)) (3.0.36)\n",
      "Requirement already satisfied: pygments in /home/nk/.miniconda3/envs/sched-sim_3.8/lib/python3.8/site-packages (from jupyter-console->jupyter~=1.0.0->-r requirements.txt (line 11)) (2.11.2)\n",
      "Requirement already satisfied: beautifulsoup4 in /home/nk/.miniconda3/envs/sched-sim_3.8/lib/python3.8/site-packages (from nbconvert->jupyter~=1.0.0->-r requirements.txt (line 11)) (4.12.2)\n",
      "Requirement already satisfied: bleach!=5.0.0 in /home/nk/.miniconda3/envs/sched-sim_3.8/lib/python3.8/site-packages (from nbconvert->jupyter~=1.0.0->-r requirements.txt (line 11)) (6.0.0)\n",
      "Requirement already satisfied: defusedxml in /home/nk/.miniconda3/envs/sched-sim_3.8/lib/python3.8/site-packages (from nbconvert->jupyter~=1.0.0->-r requirements.txt (line 11)) (0.7.1)\n",
      "Requirement already satisfied: importlib-metadata>=3.6 in /home/nk/.miniconda3/envs/sched-sim_3.8/lib/python3.8/site-packages (from nbconvert->jupyter~=1.0.0->-r requirements.txt (line 11)) (6.8.0)\n",
      "Requirement already satisfied: jinja2>=3.0 in /home/nk/.miniconda3/envs/sched-sim_3.8/lib/python3.8/site-packages (from nbconvert->jupyter~=1.0.0->-r requirements.txt (line 11)) (3.1.2)\n",
      "Requirement already satisfied: jupyterlab-pygments in /home/nk/.miniconda3/envs/sched-sim_3.8/lib/python3.8/site-packages (from nbconvert->jupyter~=1.0.0->-r requirements.txt (line 11)) (0.2.2)\n",
      "Requirement already satisfied: markupsafe>=2.0 in /home/nk/.miniconda3/envs/sched-sim_3.8/lib/python3.8/site-packages (from nbconvert->jupyter~=1.0.0->-r requirements.txt (line 11)) (2.1.3)\n",
      "Requirement already satisfied: mistune<4,>=2.0.3 in /home/nk/.miniconda3/envs/sched-sim_3.8/lib/python3.8/site-packages (from nbconvert->jupyter~=1.0.0->-r requirements.txt (line 11)) (3.0.1)\n",
      "Requirement already satisfied: nbclient>=0.5.0 in /home/nk/.miniconda3/envs/sched-sim_3.8/lib/python3.8/site-packages (from nbconvert->jupyter~=1.0.0->-r requirements.txt (line 11)) (0.8.0)\n",
      "Requirement already satisfied: nbformat>=5.7 in /home/nk/.miniconda3/envs/sched-sim_3.8/lib/python3.8/site-packages (from nbconvert->jupyter~=1.0.0->-r requirements.txt (line 11)) (5.9.2)\n",
      "Requirement already satisfied: pandocfilters>=1.4.1 in /home/nk/.miniconda3/envs/sched-sim_3.8/lib/python3.8/site-packages (from nbconvert->jupyter~=1.0.0->-r requirements.txt (line 11)) (1.5.0)\n",
      "Requirement already satisfied: tinycss2 in /home/nk/.miniconda3/envs/sched-sim_3.8/lib/python3.8/site-packages (from nbconvert->jupyter~=1.0.0->-r requirements.txt (line 11)) (1.2.1)\n",
      "Requirement already satisfied: argon2-cffi in /home/nk/.miniconda3/envs/sched-sim_3.8/lib/python3.8/site-packages (from notebook->jupyter~=1.0.0->-r requirements.txt (line 11)) (23.1.0)\n",
      "Requirement already satisfied: ipython-genutils in /home/nk/.miniconda3/envs/sched-sim_3.8/lib/python3.8/site-packages (from notebook->jupyter~=1.0.0->-r requirements.txt (line 11)) (0.2.0)\n",
      "Requirement already satisfied: Send2Trash>=1.8.0 in /home/nk/.miniconda3/envs/sched-sim_3.8/lib/python3.8/site-packages (from notebook->jupyter~=1.0.0->-r requirements.txt (line 11)) (1.8.2)\n",
      "Requirement already satisfied: terminado>=0.8.3 in /home/nk/.miniconda3/envs/sched-sim_3.8/lib/python3.8/site-packages (from notebook->jupyter~=1.0.0->-r requirements.txt (line 11)) (0.17.1)\n",
      "Requirement already satisfied: prometheus-client in /home/nk/.miniconda3/envs/sched-sim_3.8/lib/python3.8/site-packages (from notebook->jupyter~=1.0.0->-r requirements.txt (line 11)) (0.17.1)\n",
      "Requirement already satisfied: nbclassic>=0.4.7 in /home/nk/.miniconda3/envs/sched-sim_3.8/lib/python3.8/site-packages (from notebook->jupyter~=1.0.0->-r requirements.txt (line 11)) (1.0.0)\n",
      "Requirement already satisfied: qtpy>=2.4.0 in /home/nk/.miniconda3/envs/sched-sim_3.8/lib/python3.8/site-packages (from qtconsole->jupyter~=1.0.0->-r requirements.txt (line 11)) (2.4.0)\n",
      "Requirement already satisfied: webencodings in /home/nk/.miniconda3/envs/sched-sim_3.8/lib/python3.8/site-packages (from bleach!=5.0.0->nbconvert->jupyter~=1.0.0->-r requirements.txt (line 11)) (0.5.1)\n",
      "Requirement already satisfied: zipp>=0.5 in /home/nk/.miniconda3/envs/sched-sim_3.8/lib/python3.8/site-packages (from importlib-metadata>=3.6->nbconvert->jupyter~=1.0.0->-r requirements.txt (line 11)) (3.17.0)\n",
      "Requirement already satisfied: backcall in /home/nk/.miniconda3/envs/sched-sim_3.8/lib/python3.8/site-packages (from ipython>=7.23.1->ipykernel->jupyter~=1.0.0->-r requirements.txt (line 11)) (0.2.0)\n",
      "Requirement already satisfied: decorator in /home/nk/.miniconda3/envs/sched-sim_3.8/lib/python3.8/site-packages (from ipython>=7.23.1->ipykernel->jupyter~=1.0.0->-r requirements.txt (line 11)) (5.1.1)\n",
      "Requirement already satisfied: jedi>=0.16 in /home/nk/.miniconda3/envs/sched-sim_3.8/lib/python3.8/site-packages (from ipython>=7.23.1->ipykernel->jupyter~=1.0.0->-r requirements.txt (line 11)) (0.18.1)\n",
      "Requirement already satisfied: pickleshare in /home/nk/.miniconda3/envs/sched-sim_3.8/lib/python3.8/site-packages (from ipython>=7.23.1->ipykernel->jupyter~=1.0.0->-r requirements.txt (line 11)) (0.7.5)\n",
      "Requirement already satisfied: stack-data in /home/nk/.miniconda3/envs/sched-sim_3.8/lib/python3.8/site-packages (from ipython>=7.23.1->ipykernel->jupyter~=1.0.0->-r requirements.txt (line 11)) (0.2.0)\n",
      "Requirement already satisfied: pexpect>4.3 in /home/nk/.miniconda3/envs/sched-sim_3.8/lib/python3.8/site-packages (from ipython>=7.23.1->ipykernel->jupyter~=1.0.0->-r requirements.txt (line 11)) (4.8.0)\n",
      "Requirement already satisfied: entrypoints in /home/nk/.miniconda3/envs/sched-sim_3.8/lib/python3.8/site-packages (from jupyter-client>=6.1.12->ipykernel->jupyter~=1.0.0->-r requirements.txt (line 11)) (0.4)\n",
      "Requirement already satisfied: platformdirs>=2.5 in /home/nk/.miniconda3/envs/sched-sim_3.8/lib/python3.8/site-packages (from jupyter-core!=5.0.*,>=4.12->jupyter-console->jupyter~=1.0.0->-r requirements.txt (line 11)) (2.5.2)\n",
      "Requirement already satisfied: jupyter-server>=1.8 in /home/nk/.miniconda3/envs/sched-sim_3.8/lib/python3.8/site-packages (from nbclassic>=0.4.7->notebook->jupyter~=1.0.0->-r requirements.txt (line 11)) (1.24.0)\n",
      "Requirement already satisfied: notebook-shim>=0.2.3 in /home/nk/.miniconda3/envs/sched-sim_3.8/lib/python3.8/site-packages (from nbclassic>=0.4.7->notebook->jupyter~=1.0.0->-r requirements.txt (line 11)) (0.2.3)\n",
      "Requirement already satisfied: fastjsonschema in /home/nk/.miniconda3/envs/sched-sim_3.8/lib/python3.8/site-packages (from nbformat>=5.7->nbconvert->jupyter~=1.0.0->-r requirements.txt (line 11)) (2.18.0)\n",
      "Requirement already satisfied: jsonschema>=2.6 in /home/nk/.miniconda3/envs/sched-sim_3.8/lib/python3.8/site-packages (from nbformat>=5.7->nbconvert->jupyter~=1.0.0->-r requirements.txt (line 11)) (4.19.1)\n",
      "Requirement already satisfied: wcwidth in /home/nk/.miniconda3/envs/sched-sim_3.8/lib/python3.8/site-packages (from prompt-toolkit>=3.0.30->jupyter-console->jupyter~=1.0.0->-r requirements.txt (line 11)) (0.2.5)\n",
      "Requirement already satisfied: ptyprocess in /home/nk/.miniconda3/envs/sched-sim_3.8/lib/python3.8/site-packages (from terminado>=0.8.3->notebook->jupyter~=1.0.0->-r requirements.txt (line 11)) (0.7.0)\n",
      "Requirement already satisfied: argon2-cffi-bindings in /home/nk/.miniconda3/envs/sched-sim_3.8/lib/python3.8/site-packages (from argon2-cffi->notebook->jupyter~=1.0.0->-r requirements.txt (line 11)) (21.2.0)\n",
      "Requirement already satisfied: soupsieve>1.2 in /home/nk/.miniconda3/envs/sched-sim_3.8/lib/python3.8/site-packages (from beautifulsoup4->nbconvert->jupyter~=1.0.0->-r requirements.txt (line 11)) (2.5)\n",
      "Requirement already satisfied: parso<0.9.0,>=0.8.0 in /home/nk/.miniconda3/envs/sched-sim_3.8/lib/python3.8/site-packages (from jedi>=0.16->ipython>=7.23.1->ipykernel->jupyter~=1.0.0->-r requirements.txt (line 11)) (0.8.3)\n",
      "Requirement already satisfied: attrs>=22.2.0 in /home/nk/.miniconda3/envs/sched-sim_3.8/lib/python3.8/site-packages (from jsonschema>=2.6->nbformat>=5.7->nbconvert->jupyter~=1.0.0->-r requirements.txt (line 11)) (23.1.0)\n",
      "Requirement already satisfied: importlib-resources>=1.4.0 in /home/nk/.miniconda3/envs/sched-sim_3.8/lib/python3.8/site-packages (from jsonschema>=2.6->nbformat>=5.7->nbconvert->jupyter~=1.0.0->-r requirements.txt (line 11)) (6.1.0)\n",
      "Requirement already satisfied: jsonschema-specifications>=2023.03.6 in /home/nk/.miniconda3/envs/sched-sim_3.8/lib/python3.8/site-packages (from jsonschema>=2.6->nbformat>=5.7->nbconvert->jupyter~=1.0.0->-r requirements.txt (line 11)) (2023.7.1)\n",
      "Requirement already satisfied: pkgutil-resolve-name>=1.3.10 in /home/nk/.miniconda3/envs/sched-sim_3.8/lib/python3.8/site-packages (from jsonschema>=2.6->nbformat>=5.7->nbconvert->jupyter~=1.0.0->-r requirements.txt (line 11)) (1.3.10)\n",
      "Requirement already satisfied: referencing>=0.28.4 in /home/nk/.miniconda3/envs/sched-sim_3.8/lib/python3.8/site-packages (from jsonschema>=2.6->nbformat>=5.7->nbconvert->jupyter~=1.0.0->-r requirements.txt (line 11)) (0.30.2)\n",
      "Requirement already satisfied: rpds-py>=0.7.1 in /home/nk/.miniconda3/envs/sched-sim_3.8/lib/python3.8/site-packages (from jsonschema>=2.6->nbformat>=5.7->nbconvert->jupyter~=1.0.0->-r requirements.txt (line 11)) (0.10.3)\n",
      "Requirement already satisfied: anyio<4,>=3.1.0 in /home/nk/.miniconda3/envs/sched-sim_3.8/lib/python3.8/site-packages (from jupyter-server>=1.8->nbclassic>=0.4.7->notebook->jupyter~=1.0.0->-r requirements.txt (line 11)) (3.7.1)\n",
      "Requirement already satisfied: websocket-client in /home/nk/.miniconda3/envs/sched-sim_3.8/lib/python3.8/site-packages (from jupyter-server>=1.8->nbclassic>=0.4.7->notebook->jupyter~=1.0.0->-r requirements.txt (line 11)) (1.6.3)\n",
      "Requirement already satisfied: cffi>=1.0.1 in /home/nk/.miniconda3/envs/sched-sim_3.8/lib/python3.8/site-packages (from argon2-cffi-bindings->argon2-cffi->notebook->jupyter~=1.0.0->-r requirements.txt (line 11)) (1.15.0)\n",
      "Requirement already satisfied: executing in /home/nk/.miniconda3/envs/sched-sim_3.8/lib/python3.8/site-packages (from stack-data->ipython>=7.23.1->ipykernel->jupyter~=1.0.0->-r requirements.txt (line 11)) (0.8.3)\n",
      "Requirement already satisfied: asttokens in /home/nk/.miniconda3/envs/sched-sim_3.8/lib/python3.8/site-packages (from stack-data->ipython>=7.23.1->ipykernel->jupyter~=1.0.0->-r requirements.txt (line 11)) (2.0.5)\n",
      "Requirement already satisfied: pure-eval in /home/nk/.miniconda3/envs/sched-sim_3.8/lib/python3.8/site-packages (from stack-data->ipython>=7.23.1->ipykernel->jupyter~=1.0.0->-r requirements.txt (line 11)) (0.2.2)\n",
      "Requirement already satisfied: idna>=2.8 in /home/nk/.miniconda3/envs/sched-sim_3.8/lib/python3.8/site-packages (from anyio<4,>=3.1.0->jupyter-server>=1.8->nbclassic>=0.4.7->notebook->jupyter~=1.0.0->-r requirements.txt (line 11)) (3.4)\n",
      "Requirement already satisfied: sniffio>=1.1 in /home/nk/.miniconda3/envs/sched-sim_3.8/lib/python3.8/site-packages (from anyio<4,>=3.1.0->jupyter-server>=1.8->nbclassic>=0.4.7->notebook->jupyter~=1.0.0->-r requirements.txt (line 11)) (1.3.0)\n",
      "Requirement already satisfied: exceptiongroup in /home/nk/.miniconda3/envs/sched-sim_3.8/lib/python3.8/site-packages (from anyio<4,>=3.1.0->jupyter-server>=1.8->nbclassic>=0.4.7->notebook->jupyter~=1.0.0->-r requirements.txt (line 11)) (1.1.3)\n",
      "Requirement already satisfied: pycparser in /home/nk/.miniconda3/envs/sched-sim_3.8/lib/python3.8/site-packages (from cffi>=1.0.1->argon2-cffi-bindings->argon2-cffi->notebook->jupyter~=1.0.0->-r requirements.txt (line 11)) (2.21)\n",
      "Note: you may need to restart the kernel to use updated packages.\n"
     ]
    }
   ],
   "source": [
    "%pip install -r requirements.txt"
   ]
  },
  {
   "cell_type": "code",
   "execution_count": 2,
   "id": "b87a0a7b-1f70-4c82-8ed3-2b90e7d21e5d",
   "metadata": {
    "scrolled": true,
    "tags": []
   },
   "outputs": [],
   "source": [
    "CSV_PATH = \"../output/fcfs/fcfs_jobs.csv\""
   ]
  },
  {
   "cell_type": "code",
   "execution_count": 1,
   "id": "87dd7fa1-e7f0-4824-8edc-1b46bfd1e2bf",
   "metadata": {
    "tags": []
   },
   "outputs": [
    {
     "ename": "NameError",
     "evalue": "name 'CSV_PATH' is not defined",
     "output_type": "error",
     "traceback": [
      "\u001b[0;31m---------------------------------------------------------------------------\u001b[0m",
      "\u001b[0;31mNameError\u001b[0m                                 Traceback (most recent call last)",
      "\u001b[1;32m/home/nk/sched-sim/analysis/fcfs.ipynb Cell 3\u001b[0m line \u001b[0;36m5\n\u001b[1;32m      <a href='vscode-notebook-cell://wsl%2Bubuntu/home/nk/sched-sim/analysis/fcfs.ipynb#W2sdnNjb2RlLXJlbW90ZQ%3D%3D?line=1'>2</a>\u001b[0m \u001b[39mimport\u001b[39;00m \u001b[39mos\u001b[39;00m\n\u001b[1;32m      <a href='vscode-notebook-cell://wsl%2Bubuntu/home/nk/sched-sim/analysis/fcfs.ipynb#W2sdnNjb2RlLXJlbW90ZQ%3D%3D?line=2'>3</a>\u001b[0m \u001b[39mimport\u001b[39;00m \u001b[39mmatplotlib\u001b[39;00m\u001b[39m.\u001b[39;00m\u001b[39mpyplot\u001b[39;00m \u001b[39mas\u001b[39;00m \u001b[39mplt\u001b[39;00m\n\u001b[0;32m----> <a href='vscode-notebook-cell://wsl%2Bubuntu/home/nk/sched-sim/analysis/fcfs.ipynb#W2sdnNjb2RlLXJlbW90ZQ%3D%3D?line=4'>5</a>\u001b[0m js \u001b[39m=\u001b[39m JobSet\u001b[39m.\u001b[39mfrom_csv(CSV_PATH)\n\u001b[1;32m      <a href='vscode-notebook-cell://wsl%2Bubuntu/home/nk/sched-sim/analysis/fcfs.ipynb#W2sdnNjb2RlLXJlbW90ZQ%3D%3D?line=5'>6</a>\u001b[0m js\u001b[39m.\u001b[39mplot(with_details\u001b[39m=\u001b[39m\u001b[39mTrue\u001b[39;00m)\n\u001b[1;32m      <a href='vscode-notebook-cell://wsl%2Bubuntu/home/nk/sched-sim/analysis/fcfs.ipynb#W2sdnNjb2RlLXJlbW90ZQ%3D%3D?line=6'>7</a>\u001b[0m plt\u001b[39m.\u001b[39mshow()\n",
      "\u001b[0;31mNameError\u001b[0m: name 'CSV_PATH' is not defined"
     ]
    }
   ],
   "source": [
    "from evalys.jobset import JobSet\n",
    "import os\n",
    "import matplotlib.pyplot as plt\n",
    "\n",
    "js = JobSet.from_csv(CSV_PATH)\n",
    "js.plot(with_details=True)\n",
    "plt.show()"
   ]
  },
  {
   "cell_type": "code",
   "execution_count": null,
   "id": "78ef640f-1781-49f6-a8b8-b78b406d9ae3",
   "metadata": {},
   "outputs": [],
   "source": []
  }
 ],
 "metadata": {
  "kernelspec": {
   "display_name": "Python 3 (ipykernel)",
   "language": "python",
   "name": "python3"
  },
  "language_info": {
   "codemirror_mode": {
    "name": "ipython",
    "version": 3
   },
   "file_extension": ".py",
   "mimetype": "text/x-python",
   "name": "python",
   "nbconvert_exporter": "python",
   "pygments_lexer": "ipython3",
   "version": "3.8.18"
  }
 },
 "nbformat": 4,
 "nbformat_minor": 5
}
