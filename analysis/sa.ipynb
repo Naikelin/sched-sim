{
 "cells": [
  {
   "cell_type": "code",
   "execution_count": 1,
   "metadata": {},
   "outputs": [
    {
     "name": "stdout",
     "output_type": "stream",
     "text": [
      "Generated config_variation_0.json with parameters: {'platform': 'platforms/small_platform.yaml', 'algorithm': 'EASY-BACKFILL', 'progress_bar': True, 'optimisation': True, 'optimisation_type': 'simulated-annealing', 'maxiter': 100, 'no_local_search': True}\n",
      "Generated config_variation_1.json with parameters: {'platform': 'platforms/small_platform.yaml', 'algorithm': 'EASY-BACKFILL', 'progress_bar': True, 'optimisation': True, 'optimisation_type': 'simulated-annealing', 'maxiter': 100, 'no_local_search': False}\n",
      "Generated config_variation_2.json with parameters: {'platform': 'platforms/small_platform.yaml', 'algorithm': 'EASY-BACKFILL', 'progress_bar': True, 'optimisation': True, 'optimisation_type': 'simulated-annealing', 'maxiter': 500, 'no_local_search': True}\n",
      "Generated config_variation_3.json with parameters: {'platform': 'platforms/small_platform.yaml', 'algorithm': 'EASY-BACKFILL', 'progress_bar': True, 'optimisation': True, 'optimisation_type': 'simulated-annealing', 'maxiter': 500, 'no_local_search': False}\n",
      "Generated config_variation_4.json with parameters: {'platform': 'platforms/small_platform.yaml', 'algorithm': 'EASY-BACKFILL', 'progress_bar': True, 'optimisation': True, 'optimisation_type': 'simulated-annealing', 'maxiter': 1000, 'no_local_search': True}\n",
      "Generated config_variation_5.json with parameters: {'platform': 'platforms/small_platform.yaml', 'algorithm': 'EASY-BACKFILL', 'progress_bar': True, 'optimisation': True, 'optimisation_type': 'simulated-annealing', 'maxiter': 1000, 'no_local_search': False}\n"
     ]
    }
   ],
   "source": [
    "import json\n",
    "import itertools\n",
    "\n",
    "# Definir los rangos de valores para cada parámetro que quieres variar\n",
    "param_values = {\n",
    "    'maxiter': [1000, 2000, 3000, 5000],\n",
    "    'no_local_search': [True, False],\n",
    "    # Aquí puedes agregar otros parámetros que desees variar\n",
    "    # 'param_name': [value1, value2, value3],\n",
    "}\n",
    "\n",
    "# Crear todas las combinaciones posibles de valores de parámetros\n",
    "param_combinations = list(itertools.product(*param_values.values()))\n",
    "\n",
    "# Plantilla de configuración base\n",
    "config_template = {\n",
    "    \"platform\": \"platforms/small_platform.yaml\",\n",
    "    \"algorithm\": \"EASY-BACKFILL\",\n",
    "    \"progress_bar\": True,\n",
    "    \"optimisation\": True,\n",
    "    \"optimisation_type\": \"simulated-annealing\",\n",
    "    \"optimisation_configs\": {}\n",
    "    # ... cualquier otro parámetro fijo\n",
    "}"
   ]
  }
 ],
 "metadata": {
  "kernelspec": {
   "display_name": "sched-sim",
   "language": "python",
   "name": "python3"
  },
  "language_info": {
   "codemirror_mode": {
    "name": "ipython",
    "version": 3
   },
   "file_extension": ".py",
   "mimetype": "text/x-python",
   "name": "python",
   "nbconvert_exporter": "python",
   "pygments_lexer": "ipython3",
   "version": "3.8.18"
  }
 },
 "nbformat": 4,
 "nbformat_minor": 2
}
