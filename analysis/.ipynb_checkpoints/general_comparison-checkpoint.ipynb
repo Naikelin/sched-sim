{
 "cells": [
  {
   "cell_type": "code",
   "execution_count": 4,
   "id": "de4f9087-958c-4e1a-8e94-9a3822208160",
   "metadata": {
    "tags": []
   },
   "outputs": [],
   "source": [
    "from IPython import display"
   ]
  },
  {
   "cell_type": "code",
   "execution_count": 5,
   "id": "ef66afa4-36d9-4aa6-a881-5a767105738c",
   "metadata": {
    "tags": []
   },
   "outputs": [],
   "source": [
    "import os\n",
    "import numpy as np\n",
    "import pandas as pd\n",
    "import matplotlib\n",
    "import matplotlib.pyplot as plt\n",
    "import seaborn as sns\n",
    "import evalys\n",
    "from evalys.jobset import JobSet"
   ]
  },
  {
   "cell_type": "code",
   "execution_count": 7,
   "id": "7b5faff6-dae7-4eb6-8091-72101c4f0c3d",
   "metadata": {
    "tags": []
   },
   "outputs": [],
   "source": [
    "schedule_names = ['fcfs']"
   ]
  },
  {
   "cell_type": "code",
   "execution_count": 19,
   "id": "74d991b7-7250-493e-a388-bdf4336e338d",
   "metadata": {
    "tags": []
   },
   "outputs": [
    {
     "ename": "NameError",
     "evalue": "name 'input_location' is not defined",
     "output_type": "error",
     "traceback": [
      "\u001b[0;31m---------------------------------------------------------------------------\u001b[0m",
      "\u001b[0;31mNameError\u001b[0m                                 Traceback (most recent call last)",
      "Cell \u001b[0;32mIn[19], line 10\u001b[0m\n\u001b[1;32m      7\u001b[0m         \u001b[38;5;28;01melif\u001b[39;00m files\u001b[38;5;241m.\u001b[39mendswith(\u001b[38;5;124m'\u001b[39m\u001b[38;5;124m_jobs.csv\u001b[39m\u001b[38;5;124m'\u001b[39m):\n\u001b[1;32m      8\u001b[0m             jobs_files\u001b[38;5;241m.\u001b[39mappend(folders \u001b[38;5;241m+\u001b[39m \u001b[38;5;124m\"\u001b[39m\u001b[38;5;124m/\u001b[39m\u001b[38;5;124m\"\u001b[39m \u001b[38;5;241m+\u001b[39m files)\n\u001b[0;32m---> 10\u001b[0m schedule_files \u001b[38;5;241m=\u001b[39m [os\u001b[38;5;241m.\u001b[39mpath\u001b[38;5;241m.\u001b[39mjoin(\u001b[38;5;124m'\u001b[39m\u001b[38;5;124m../output\u001b[39m\u001b[38;5;124m'\u001b[39m, input_location, \u001b[38;5;28mstr\u001b[39m(file)) \u001b[38;5;28;01mfor\u001b[39;00m file \u001b[38;5;129;01min\u001b[39;00m \u001b[38;5;28msorted\u001b[39m(schedule_files)]\n\u001b[1;32m     11\u001b[0m jobs_files \u001b[38;5;241m=\u001b[39m [os\u001b[38;5;241m.\u001b[39mpath\u001b[38;5;241m.\u001b[39mjoin(\u001b[38;5;124m'\u001b[39m\u001b[38;5;124m../output\u001b[39m\u001b[38;5;124m'\u001b[39m, input_location, \u001b[38;5;28mstr\u001b[39m(file)) \u001b[38;5;28;01mfor\u001b[39;00m file \u001b[38;5;129;01min\u001b[39;00m \u001b[38;5;28msorted\u001b[39m(jobs_files)]\n\u001b[1;32m     12\u001b[0m \u001b[38;5;28mprint\u001b[39m(schedule_files)\n",
      "Cell \u001b[0;32mIn[19], line 10\u001b[0m, in \u001b[0;36m<listcomp>\u001b[0;34m(.0)\u001b[0m\n\u001b[1;32m      7\u001b[0m         \u001b[38;5;28;01melif\u001b[39;00m files\u001b[38;5;241m.\u001b[39mendswith(\u001b[38;5;124m'\u001b[39m\u001b[38;5;124m_jobs.csv\u001b[39m\u001b[38;5;124m'\u001b[39m):\n\u001b[1;32m      8\u001b[0m             jobs_files\u001b[38;5;241m.\u001b[39mappend(folders \u001b[38;5;241m+\u001b[39m \u001b[38;5;124m\"\u001b[39m\u001b[38;5;124m/\u001b[39m\u001b[38;5;124m\"\u001b[39m \u001b[38;5;241m+\u001b[39m files)\n\u001b[0;32m---> 10\u001b[0m schedule_files \u001b[38;5;241m=\u001b[39m [os\u001b[38;5;241m.\u001b[39mpath\u001b[38;5;241m.\u001b[39mjoin(\u001b[38;5;124m'\u001b[39m\u001b[38;5;124m../output\u001b[39m\u001b[38;5;124m'\u001b[39m, \u001b[43minput_location\u001b[49m, \u001b[38;5;28mstr\u001b[39m(file)) \u001b[38;5;28;01mfor\u001b[39;00m file \u001b[38;5;129;01min\u001b[39;00m \u001b[38;5;28msorted\u001b[39m(schedule_files)]\n\u001b[1;32m     11\u001b[0m jobs_files \u001b[38;5;241m=\u001b[39m [os\u001b[38;5;241m.\u001b[39mpath\u001b[38;5;241m.\u001b[39mjoin(\u001b[38;5;124m'\u001b[39m\u001b[38;5;124m../output\u001b[39m\u001b[38;5;124m'\u001b[39m, input_location, \u001b[38;5;28mstr\u001b[39m(file)) \u001b[38;5;28;01mfor\u001b[39;00m file \u001b[38;5;129;01min\u001b[39;00m \u001b[38;5;28msorted\u001b[39m(jobs_files)]\n\u001b[1;32m     12\u001b[0m \u001b[38;5;28mprint\u001b[39m(schedule_files)\n",
      "\u001b[0;31mNameError\u001b[0m: name 'input_location' is not defined"
     ]
    }
   ],
   "source": [
    "schedule_files = []\n",
    "jobs_files = []\n",
    "for folders in os.listdir('../output/'):\n",
    "    for files in os.listdir('../output/' + folders):\n",
    "        if files.endswith('_schedule.csv'):\n",
    "            schedule_files.append(folders + \"/\" +  files)\n",
    "        elif files.endswith('_jobs.csv'):\n",
    "            jobs_files.append(folders + \"/\" + files)\n",
    "\n",
    "schedule_files = [os.path.join('../output', str(file)) for file in sorted(schedule_files)]\n",
    "jobs_files = [os.path.join('../output', str(file)) for file in sorted(jobs_files)]\n",
    "print(schedule_files)\n",
    "print(jobs_files)"
   ]
  },
  {
   "cell_type": "code",
   "execution_count": null,
   "id": "62e8f2f2-66f1-41b4-852c-f56a01143454",
   "metadata": {},
   "outputs": [],
   "source": []
  }
 ],
 "metadata": {
  "kernelspec": {
   "display_name": "Python 3 (ipykernel)",
   "language": "python",
   "name": "python3"
  },
  "language_info": {
   "codemirror_mode": {
    "name": "ipython",
    "version": 3
   },
   "file_extension": ".py",
   "mimetype": "text/x-python",
   "name": "python",
   "nbconvert_exporter": "python",
   "pygments_lexer": "ipython3",
   "version": "3.8.18"
  }
 },
 "nbformat": 4,
 "nbformat_minor": 5
}
