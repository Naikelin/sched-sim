{
 "cells": [
  {
   "cell_type": "code",
   "execution_count": 39,
   "id": "de4f9087-958c-4e1a-8e94-9a3822208160",
   "metadata": {
    "tags": []
   },
   "outputs": [],
   "source": [
    "from IPython import display"
   ]
  },
  {
   "cell_type": "code",
   "execution_count": 40,
   "id": "ef66afa4-36d9-4aa6-a881-5a767105738c",
   "metadata": {
    "tags": []
   },
   "outputs": [],
   "source": [
    "import os\n",
    "import numpy as np\n",
    "import pandas as pd\n",
    "import matplotlib\n",
    "import matplotlib.pyplot as plt\n",
    "import seaborn as sns\n",
    "import evalys\n",
    "from evalys.jobset import JobSet"
   ]
  },
  {
   "cell_type": "markdown",
   "id": "50d81123-3196-4253-a003-31ec6d5094f0",
   "metadata": {},
   "source": [
    "# Obteniendo los archivos a analizar"
   ]
  },
  {
   "cell_type": "code",
   "execution_count": 48,
   "id": "7b5faff6-dae7-4eb6-8091-72101c4f0c3d",
   "metadata": {
    "tags": []
   },
   "outputs": [],
   "source": [
    "schedule_names = ['fcfs', 'easy_backfill']"
   ]
  },
  {
   "cell_type": "code",
   "execution_count": 49,
   "id": "74d991b7-7250-493e-a388-bdf4336e338d",
   "metadata": {
    "tags": []
   },
   "outputs": [
    {
     "name": "stdout",
     "output_type": "stream",
     "text": [
      "['../output/easy_backfill/easy_backfill_schedule.csv', '../output/fcfs/base_fcfs_schedule.csv']\n",
      "['../output/easy_backfill/easy_backfill_jobs.csv', '../output/fcfs/base_fcfs_jobs.csv']\n"
     ]
    }
   ],
   "source": [
    "schedule_files = []\n",
    "jobs_files = []\n",
    "for folders in os.listdir('../output/'):\n",
    "    for files in os.listdir('../output/' + folders):\n",
    "        if files.endswith('_schedule.csv'):\n",
    "            schedule_files.append(folders + \"/\" +  files)\n",
    "        elif files.endswith('_jobs.csv'):\n",
    "            jobs_files.append(folders + \"/\" + files)\n",
    "\n",
    "schedule_files = [os.path.join('../output', str(file)) for file in sorted(schedule_files)]\n",
    "jobs_files = [os.path.join('../output', str(file)) for file in sorted(jobs_files)]\n",
    "print(schedule_files)\n",
    "print(jobs_files)"
   ]
  },
  {
   "cell_type": "code",
   "execution_count": 60,
   "id": "62e8f2f2-66f1-41b4-852c-f56a01143454",
   "metadata": {
    "tags": []
   },
   "outputs": [
    {
     "name": "stdout",
     "output_type": "stream",
     "text": [
      "testing file backfill schedule.csv\n",
      "testing file fcfs schedule.csv\n",
      "reading ../output/fcfs/base_fcfs_schedule.csv\n"
     ]
    }
   ],
   "source": [
    "metrics = pd.DataFrame()\n",
    "for file in schedule_files:\n",
    "    _, schedule_name, _ = os.path.basename(file).split('_')\n",
    "    print(\"testing file\", schedule_name, schedule_name2)\n",
    "    if schedule_name in schedule_names:\n",
    "        print(\"reading\", file)\n",
    "        df = pd.read_csv(file)\n",
    "        df['schedule'] = schedule_name\n",
    "        metrics = metrics.append(df)\n",
    "metrics.set_index('schedule', inplace=True)"
   ]
  },
  {
   "cell_type": "code",
   "execution_count": 51,
   "id": "a8f54fe1-f151-4aea-8dc4-1b1d959d8369",
   "metadata": {
    "tags": []
   },
   "outputs": [
    {
     "name": "stdout",
     "output_type": "stream",
     "text": [
      "reading ../output/fcfs/base_fcfs_jobs.csv\n"
     ]
    }
   ],
   "source": [
    "jobsets = {}\n",
    "for file in jobs_files:\n",
    "    _, schedule_name, _ = os.path.basename(file).split('_')\n",
    "    if schedule_name in schedule_names:\n",
    "        print(\"reading\", file)\n",
    "        jobsets[schedule_name] = JobSet.from_csv(file)"
   ]
  },
  {
   "cell_type": "code",
   "execution_count": 52,
   "id": "f07b14eb-3aca-44b3-811b-b9bc2c9a9134",
   "metadata": {
    "tags": []
   },
   "outputs": [],
   "source": [
    "def calculate_compute_utilisation(schedule):\n",
    "    compute_time = jobsets[schedule].df[['execution_time', 'requested_number_of_resources']].apply(lambda row: row.execution_time * row.requested_number_of_resources, axis=1).sum()\n",
    "    return compute_time / (metrics.loc[schedule].makespan * 96)\n",
    "\n",
    "def calculate_storage_utilisation(schedule):\n",
    "    storage_time = jobsets[schedule].df[['execution_time', 'metadata']].apply(lambda row: row.execution_time * row.metadata, axis=1).sum()\n",
    "    burst_buffer_capacity = 5 * 10**9\n",
    "    num_burst_buffers = 12\n",
    "    total_storage_time = metrics.loc[schedule].makespan * num_burst_buffers * burst_buffer_capacity\n",
    "    return storage_time / total_storage_time\n",
    "\n",
    "def create_metric_df(metric):\n",
    "    return pd.concat([jobsets[schedule].df[metric].rename(schedule) for schedule in schedule_names], axis=1)"
   ]
  },
  {
   "cell_type": "code",
   "execution_count": 53,
   "id": "b4864c0c-600d-492f-98c3-7e3ab06ccdce",
   "metadata": {
    "tags": []
   },
   "outputs": [],
   "source": [
    "def bounded_slowdown(df):\n",
    "    return (df.turnaround_time / df.execution_time.clip(lower=60)).clip(lower=1)\n",
    "\n",
    "def create_all_metrics_df():\n",
    "    dfs = []\n",
    "    for schedule in schedule_names:\n",
    "        df = jobsets[schedule].df\n",
    "        df = df.assign(schedule=schedule).assign(bounded_slowdown=bounded_slowdown(df))[['schedule', 'waiting_time', 'turnaround_time', 'stretch']]\n",
    "        dfs.append(df)\n",
    "    df = pd.concat(dfs, axis=0).rename({'stretch': 'slowdown'}, axis=1)\n",
    "    return df"
   ]
  },
  {
   "cell_type": "code",
   "execution_count": 54,
   "id": "2afa4de2-c72f-4ab2-a8c1-5084b0530d95",
   "metadata": {
    "tags": []
   },
   "outputs": [
    {
     "ename": "KeyError",
     "evalue": "'easy_backfill'",
     "output_type": "error",
     "traceback": [
      "\u001b[0;31m---------------------------------------------------------------------------\u001b[0m",
      "\u001b[0;31mKeyError\u001b[0m                                  Traceback (most recent call last)",
      "Cell \u001b[0;32mIn[54], line 1\u001b[0m\n\u001b[0;32m----> 1\u001b[0m metrics[\u001b[38;5;124m'\u001b[39m\u001b[38;5;124mcompute_utilisation\u001b[39m\u001b[38;5;124m'\u001b[39m] \u001b[38;5;241m=\u001b[39m pd\u001b[38;5;241m.\u001b[39mSeries({schedule: calculate_compute_utilisation(schedule) \u001b[38;5;28;01mfor\u001b[39;00m schedule \u001b[38;5;129;01min\u001b[39;00m schedule_names})\n\u001b[1;32m      2\u001b[0m metrics[\u001b[38;5;124m'\u001b[39m\u001b[38;5;124mstorage_utilisation\u001b[39m\u001b[38;5;124m'\u001b[39m] \u001b[38;5;241m=\u001b[39m pd\u001b[38;5;241m.\u001b[39mSeries({schedule: calculate_storage_utilisation(schedule) \u001b[38;5;28;01mfor\u001b[39;00m schedule \u001b[38;5;129;01min\u001b[39;00m schedule_names})\n",
      "Cell \u001b[0;32mIn[54], line 1\u001b[0m, in \u001b[0;36m<dictcomp>\u001b[0;34m(.0)\u001b[0m\n\u001b[0;32m----> 1\u001b[0m metrics[\u001b[38;5;124m'\u001b[39m\u001b[38;5;124mcompute_utilisation\u001b[39m\u001b[38;5;124m'\u001b[39m] \u001b[38;5;241m=\u001b[39m pd\u001b[38;5;241m.\u001b[39mSeries({schedule: \u001b[43mcalculate_compute_utilisation\u001b[49m\u001b[43m(\u001b[49m\u001b[43mschedule\u001b[49m\u001b[43m)\u001b[49m \u001b[38;5;28;01mfor\u001b[39;00m schedule \u001b[38;5;129;01min\u001b[39;00m schedule_names})\n\u001b[1;32m      2\u001b[0m metrics[\u001b[38;5;124m'\u001b[39m\u001b[38;5;124mstorage_utilisation\u001b[39m\u001b[38;5;124m'\u001b[39m] \u001b[38;5;241m=\u001b[39m pd\u001b[38;5;241m.\u001b[39mSeries({schedule: calculate_storage_utilisation(schedule) \u001b[38;5;28;01mfor\u001b[39;00m schedule \u001b[38;5;129;01min\u001b[39;00m schedule_names})\n",
      "Cell \u001b[0;32mIn[52], line 2\u001b[0m, in \u001b[0;36mcalculate_compute_utilisation\u001b[0;34m(schedule)\u001b[0m\n\u001b[1;32m      1\u001b[0m \u001b[38;5;28;01mdef\u001b[39;00m \u001b[38;5;21mcalculate_compute_utilisation\u001b[39m(schedule):\n\u001b[0;32m----> 2\u001b[0m     compute_time \u001b[38;5;241m=\u001b[39m \u001b[43mjobsets\u001b[49m\u001b[43m[\u001b[49m\u001b[43mschedule\u001b[49m\u001b[43m]\u001b[49m\u001b[38;5;241m.\u001b[39mdf[[\u001b[38;5;124m'\u001b[39m\u001b[38;5;124mexecution_time\u001b[39m\u001b[38;5;124m'\u001b[39m, \u001b[38;5;124m'\u001b[39m\u001b[38;5;124mrequested_number_of_resources\u001b[39m\u001b[38;5;124m'\u001b[39m]]\u001b[38;5;241m.\u001b[39mapply(\u001b[38;5;28;01mlambda\u001b[39;00m row: row\u001b[38;5;241m.\u001b[39mexecution_time \u001b[38;5;241m*\u001b[39m row\u001b[38;5;241m.\u001b[39mrequested_number_of_resources, axis\u001b[38;5;241m=\u001b[39m\u001b[38;5;241m1\u001b[39m)\u001b[38;5;241m.\u001b[39msum()\n\u001b[1;32m      3\u001b[0m     \u001b[38;5;28;01mreturn\u001b[39;00m compute_time \u001b[38;5;241m/\u001b[39m (metrics\u001b[38;5;241m.\u001b[39mloc[schedule]\u001b[38;5;241m.\u001b[39mmakespan \u001b[38;5;241m*\u001b[39m \u001b[38;5;241m96\u001b[39m)\n",
      "\u001b[0;31mKeyError\u001b[0m: 'easy_backfill'"
     ]
    }
   ],
   "source": [
    "metrics['compute_utilisation'] = pd.Series({schedule: calculate_compute_utilisation(schedule) for schedule in schedule_names})\n",
    "metrics['storage_utilisation'] = pd.Series({schedule: calculate_storage_utilisation(schedule) for schedule in schedule_names})"
   ]
  },
  {
   "cell_type": "code",
   "execution_count": null,
   "id": "07187b0d-64a5-45b3-8dac-366d5883ff1b",
   "metadata": {
    "tags": []
   },
   "outputs": [],
   "source": [
    "metrics = metrics.reindex(schedule_names)\n",
    "metrics.index.rename(None, inplace=True)\n",
    "# sns.set_theme(context='talk', style='whitegrid')\n",
    "sns.set_theme(style='whitegrid')"
   ]
  },
  {
   "cell_type": "code",
   "execution_count": null,
   "id": "ecd90e09-5db8-4076-ba51-c98939fe9338",
   "metadata": {
    "tags": []
   },
   "outputs": [],
   "source": [
    "metrics.T"
   ]
  },
  {
   "cell_type": "code",
   "execution_count": null,
   "id": "25fb6221-4f0c-4869-9416-0fea65853f93",
   "metadata": {
    "tags": []
   },
   "outputs": [],
   "source": [
    "ax = metrics['makespan'].plot.barh(figsize=(12, 8))\n",
    "ax.grid(axis='y')"
   ]
  },
  {
   "cell_type": "code",
   "execution_count": null,
   "id": "26f141b1-755a-40ed-aea3-b5ab9e7bc31e",
   "metadata": {
    "tags": []
   },
   "outputs": [],
   "source": [
    "ax = metrics[['compute_utilisation']].plot.barh(figsize=(14, 8))\n",
    "ax.grid(axis='y')"
   ]
  },
  {
   "cell_type": "code",
   "execution_count": null,
   "id": "04084475-40d1-4d6c-b92f-a4dd39716e27",
   "metadata": {
    "tags": []
   },
   "outputs": [],
   "source": [
    "metrics_df = create_all_metrics_df()\n",
    "metrics_df"
   ]
  },
  {
   "cell_type": "code",
   "execution_count": null,
   "id": "a26b3174-f94f-43e8-84af-873ff01fa5a8",
   "metadata": {
    "tags": []
   },
   "outputs": [],
   "source": [
    "waiting_times = create_metric_df('waiting_time')\n",
    "waiting_times.describe()"
   ]
  },
  {
   "cell_type": "code",
   "execution_count": null,
   "id": "57fe2893-afbb-4564-a4a7-74f3aa555ddb",
   "metadata": {
    "tags": []
   },
   "outputs": [],
   "source": [
    "largest = pd.concat([metrics_df[metrics_df.schedule == schedule][['schedule', 'waiting_time']].nlargest(n=4000, columns='waiting_time') for schedule in schedule_names])\n",
    "with sns.plotting_context('talk'):\n",
    "    fig, ax = plt.subplots(figsize=(14.4,4))\n",
    "    sns.stripplot(data=largest, x='schedule', y='waiting_time', ax=ax, size=3, jitter=0.4)\n",
    "    ax.set_ylim(0)\n",
    "    ax.set_ylabel('')\n",
    "    ax.set_xlabel('')\n",
    "fig.savefig('results/waiting-time_dist.pdf', bbox_inches='tight')"
   ]
  },
  {
   "cell_type": "code",
   "execution_count": null,
   "id": "9632337a-ebce-465e-88ff-76e76f533f64",
   "metadata": {
    "tags": []
   },
   "outputs": [],
   "source": [
    "fig, ax = plt.subplots(figsize=(7.2,4))\n",
    "sns.barplot(data=waiting_times, ax=ax)\n",
    "fig.savefig('results/waiting-time_mean.pdf', bbox_inches='tight')"
   ]
  },
  {
   "cell_type": "code",
   "execution_count": null,
   "id": "72c1cc6d-57a4-45d2-baad-fd0140fa610e",
   "metadata": {
    "tags": []
   },
   "outputs": [],
   "source": [
    "fig, ax = plt.subplots(figsize=(7.2,4))\n",
    "sns.boxenplot(data=waiting_times, k_depth=4, showfliers=False, ax=ax)\n",
    "ax.set_ylim(0)\n",
    "# ax.set_ylim(top=140000)\n",
    "fig.savefig('results/waiting-time_boxen.pdf', bbox_inches='tight')"
   ]
  },
  {
   "cell_type": "code",
   "execution_count": null,
   "id": "6022e9f0-36ee-4e6d-9c5d-5658ec7327b8",
   "metadata": {
    "tags": []
   },
   "outputs": [],
   "source": [
    "turnaround_times = create_metric_df('turnaround_time')\n",
    "turnaround_times.describe()"
   ]
  },
  {
   "cell_type": "code",
   "execution_count": null,
   "id": "d26e9119-4a86-44c7-a5ff-23144fc2d7a4",
   "metadata": {
    "tags": []
   },
   "outputs": [],
   "source": [
    "largest = pd.concat([metrics_df[metrics_df.schedule == schedule][['schedule', 'turnaround_time']].nlargest(n=4000, columns='turnaround_time') for schedule in schedule_names])\n",
    "with sns.plotting_context('talk'):\n",
    "    fig, ax = plt.subplots(figsize=(14.4,4))\n",
    "    sns.stripplot(data=largest, x='schedule', y='turnaround_time', ax=ax, size=3, jitter=0.4)\n",
    "    ax.set_ylim(0)\n",
    "#     ax.set_ylim(top=2.5*10**6)\n",
    "    ax.set_ylabel('')\n",
    "    ax.set_xlabel('')\n",
    "fig.savefig('results/turnaround-time_dist.pdf', bbox_inches='tight')"
   ]
  },
  {
   "cell_type": "code",
   "execution_count": null,
   "id": "e36ed4ef-7693-4edd-afd4-a5b8301c4a4f",
   "metadata": {
    "tags": []
   },
   "outputs": [],
   "source": [
    "fig, ax = plt.subplots(figsize=(7.2,4))\n",
    "sns.barplot(data=turnaround_times, ax=ax)\n",
    "fig.savefig('results/turnaround-time_mean.pdf', bbox_inches='tight')"
   ]
  },
  {
   "cell_type": "code",
   "execution_count": null,
   "id": "9f553d49-a382-420b-87f4-8a4cf573bad2",
   "metadata": {
    "tags": []
   },
   "outputs": [],
   "source": [
    "fig, ax = plt.subplots(figsize=(7.2,4))\n",
    "sns.boxenplot(data=turnaround_times, k_depth=4, showfliers=False, ax=ax)\n",
    "ax.set_ylim(0)\n",
    "# ax.set_ylim(top=140000)\n",
    "fig.savefig('results/turnaround-time_boxen.pdf', bbox_inches='tight')"
   ]
  },
  {
   "cell_type": "code",
   "execution_count": null,
   "id": "1fb1b20f-96e7-424b-b06f-6dbc55a461a7",
   "metadata": {
    "tags": []
   },
   "outputs": [],
   "source": [
    "slowdown = create_metric_df('stretch')\n",
    "slowdown.describe()"
   ]
  },
  {
   "cell_type": "code",
   "execution_count": null,
   "id": "7ceb6d34-6388-4c04-af12-03518f52867b",
   "metadata": {
    "tags": []
   },
   "outputs": [],
   "source": [
    "# Scatterplot, outliers\n",
    "largest = pd.concat([metrics_df[metrics_df.schedule == schedule][['schedule', 'slowdown']].nlargest(n=4000, columns='slowdown') for schedule in schedule_names])\n",
    "with sns.plotting_context('talk'):\n",
    "    fig, ax = plt.subplots(figsize=(14.4,4))\n",
    "    sns.stripplot(data=largest, x='schedule', y='slowdown', ax=ax, size=3, jitter=0.4)\n",
    "    ax.set_ylim(0)\n",
    "    ax.set_ylabel('')\n",
    "    ax.set_xlabel('')\n",
    "fig.savefig('results/slowdown_dist.pdf', bbox_inches='tight')"
   ]
  },
  {
   "cell_type": "code",
   "execution_count": null,
   "id": "a513ec45-c538-4d3a-8f97-f187e069e034",
   "metadata": {
    "tags": []
   },
   "outputs": [],
   "source": [
    "# Mean, logscale\n",
    "fig, ax = plt.subplots(figsize=(7.2,4))\n",
    "sns.barplot(data=slowdown, ax=ax)\n",
    "fig.savefig('results/slowdown_mean.pdf', bbox_inches='tight')"
   ]
  },
  {
   "cell_type": "code",
   "execution_count": null,
   "id": "c72eceb7-c8d0-4466-876f-401fc79aa10d",
   "metadata": {
    "tags": []
   },
   "outputs": [],
   "source": [
    "fig, ax = plt.subplots(figsize=(7.2,4))\n",
    "sns.boxenplot(data=slowdown, k_depth=4, showfliers=False, ax=ax)\n",
    "ax.set_ylim(0)\n",
    "# ax.set_ylim(top=140000)\n",
    "fig.savefig('results/slowdown_boxen.pdf', bbox_inches='tight')"
   ]
  },
  {
   "cell_type": "code",
   "execution_count": null,
   "id": "67379fb3-c2ad-47fe-81f8-e159a565fcc7",
   "metadata": {
    "tags": []
   },
   "outputs": [],
   "source": [
    "# FCFS"
   ]
  },
  {
   "cell_type": "code",
   "execution_count": null,
   "id": "4e20b1b5-996c-4274-bd5b-81984ec2d880",
   "metadata": {
    "tags": []
   },
   "outputs": [],
   "source": [
    "fig, ax = plt.subplots(figsize=(20,8))\n",
    "evalys.visu.legacy.plot_load(jobsets['fcfs'].queue, nb_resources=96, ax=ax)"
   ]
  },
  {
   "cell_type": "code",
   "execution_count": null,
   "id": "7e19a5a4-2ce1-42f2-9434-c14934fa4e7d",
   "metadata": {
    "tags": []
   },
   "outputs": [],
   "source": [
    "evalys.visu.legacy.plot_series('waiting_time', jobsets)"
   ]
  },
  {
   "cell_type": "code",
   "execution_count": null,
   "id": "362ceed1-0471-4915-b8f3-12a03423485d",
   "metadata": {},
   "outputs": [],
   "source": []
  }
 ],
 "metadata": {
  "kernelspec": {
   "display_name": "Python 3 (ipykernel)",
   "language": "python",
   "name": "python3"
  },
  "language_info": {
   "codemirror_mode": {
    "name": "ipython",
    "version": 3
   },
   "file_extension": ".py",
   "mimetype": "text/x-python",
   "name": "python",
   "nbconvert_exporter": "python",
   "pygments_lexer": "ipython3",
   "version": "3.8.18"
  }
 },
 "nbformat": 4,
 "nbformat_minor": 5
}
