{
 "cells": [
  {
   "cell_type": "code",
   "execution_count": 120,
   "id": "de4f9087-958c-4e1a-8e94-9a3822208160",
   "metadata": {
    "tags": []
   },
   "outputs": [],
   "source": [
    "from IPython import display"
   ]
  },
  {
   "cell_type": "code",
   "execution_count": 121,
   "id": "ef66afa4-36d9-4aa6-a881-5a767105738c",
   "metadata": {
    "tags": []
   },
   "outputs": [],
   "source": [
    "import os\n",
    "import numpy as np\n",
    "import pandas as pd\n",
    "import matplotlib\n",
    "import matplotlib.pyplot as plt\n",
    "import seaborn as sns\n",
    "import evalys\n",
    "from evalys.jobset import JobSet"
   ]
  },
  {
   "cell_type": "markdown",
   "id": "50d81123-3196-4253-a003-31ec6d5094f0",
   "metadata": {},
   "source": [
    "# Obteniendo los archivos a analizar"
   ]
  },
  {
   "cell_type": "code",
   "execution_count": 122,
   "id": "7b5faff6-dae7-4eb6-8091-72101c4f0c3d",
   "metadata": {
    "tags": []
   },
   "outputs": [],
   "source": [
    "schedule_names = ['fcfs', 'backfill']"
   ]
  },
  {
   "cell_type": "code",
   "execution_count": 123,
   "id": "74d991b7-7250-493e-a388-bdf4336e338d",
   "metadata": {
    "tags": []
   },
   "outputs": [
    {
     "name": "stdout",
     "output_type": "stream",
     "text": [
      "['../output/backfill/base_backfill_schedule.csv', '../output/fcfs/base_fcfs_schedule.csv']\n",
      "['../output/backfill/base_backfill_jobs.csv', '../output/fcfs/base_fcfs_jobs.csv']\n"
     ]
    }
   ],
   "source": [
    "schedule_files = []\n",
    "jobs_files = []\n",
    "for folders in os.listdir('../output/'):\n",
    "    for files in os.listdir('../output/' + folders):\n",
    "        if files.endswith('_schedule.csv'):\n",
    "            schedule_files.append(folders + \"/\" +  files)\n",
    "        elif files.endswith('_jobs.csv'):\n",
    "            jobs_files.append(folders + \"/\" + files)\n",
    "\n",
    "schedule_files = [os.path.join('../output', str(file)) for file in sorted(schedule_files)]\n",
    "jobs_files = [os.path.join('../output', str(file)) for file in sorted(jobs_files)]\n",
    "print(schedule_files)\n",
    "print(jobs_files)"
   ]
  },
  {
   "cell_type": "code",
   "execution_count": 124,
   "id": "62e8f2f2-66f1-41b4-852c-f56a01143454",
   "metadata": {
    "tags": []
   },
   "outputs": [
    {
     "name": "stdout",
     "output_type": "stream",
     "text": [
      "reading ../output/fcfs/base_fcfs_schedule.csv\n"
     ]
    }
   ],
   "source": [
    "metrics = pd.DataFrame()\n",
    "for file in schedule_files:\n",
    "    _, schedule_name, _ = os.path.basename(file).split('_')\n",
    "    if schedule_name in schedule_names:\n",
    "        print(\"reading\", file)\n",
    "        df = pd.read_csv(file)\n",
    "        df['schedule'] = schedule_name\n",
    "        metrics = metrics.append(df)\n",
    "metrics.set_index('schedule', inplace=True)"
   ]
  },
  {
   "cell_type": "code",
   "execution_count": 125,
   "id": "a8f54fe1-f151-4aea-8dc4-1b1d959d8369",
   "metadata": {
    "tags": []
   },
   "outputs": [
    {
     "name": "stdout",
     "output_type": "stream",
     "text": [
      "reading ../output/fcfs/base_fcfs_jobs.csv\n"
     ]
    }
   ],
   "source": [
    "jobsets = {}\n",
    "for file in jobs_files:\n",
    "    _, schedule_name, _ = os.path.basename(file).split('_')\n",
    "    if schedule_name in schedule_names:\n",
    "        print(\"reading\", file)\n",
    "        jobsets[schedule_name] = JobSet.from_csv(file)"
   ]
  },
  {
   "cell_type": "code",
   "execution_count": 126,
   "id": "f07b14eb-3aca-44b3-811b-b9bc2c9a9134",
   "metadata": {
    "tags": []
   },
   "outputs": [],
   "source": [
    "def calculate_compute_utilisation(schedule):\n",
    "    compute_time = jobsets[schedule].df[['execution_time', 'requested_number_of_resources']].apply(lambda row: row.execution_time * row.requested_number_of_resources, axis=1).sum()\n",
    "    return compute_time / (metrics.loc[schedule].makespan * 96)\n",
    "\n",
    "def calculate_storage_utilisation(schedule):\n",
    "    storage_time = jobsets[schedule].df[['execution_time', 'metadata']].apply(lambda row: row.execution_time * row.metadata, axis=1).sum()\n",
    "    burst_buffer_capacity = 5 * 10**9\n",
    "    num_burst_buffers = 12\n",
    "    total_storage_time = metrics.loc[schedule].makespan * num_burst_buffers * burst_buffer_capacity\n",
    "    return storage_time / total_storage_time\n",
    "\n",
    "def create_metric_df(metric):\n",
    "    return pd.concat([jobsets[schedule].df[metric].rename(schedule) for schedule in schedule_names], axis=1)"
   ]
  },
  {
   "cell_type": "code",
   "execution_count": 127,
   "id": "b4864c0c-600d-492f-98c3-7e3ab06ccdce",
   "metadata": {
    "tags": []
   },
   "outputs": [],
   "source": [
    "def bounded_slowdown(df):\n",
    "    return (df.turnaround_time / df.execution_time.clip(lower=60)).clip(lower=1)\n",
    "\n",
    "def create_all_metrics_df():\n",
    "    dfs = []\n",
    "    for schedule in schedule_names:\n",
    "        df = jobsets[schedule].df\n",
    "        df = df.assign(schedule=schedule).assign(bounded_slowdown=bounded_slowdown(df))[['schedule', 'waiting_time', 'turnaround_time', 'stretch']]\n",
    "        dfs.append(df)\n",
    "    df = pd.concat(dfs, axis=0).rename({'stretch': 'slowdown'}, axis=1)\n",
    "    return df"
   ]
  },
  {
   "cell_type": "code",
   "execution_count": 128,
   "id": "2afa4de2-c72f-4ab2-a8c1-5084b0530d95",
   "metadata": {
    "tags": []
   },
   "outputs": [],
   "source": [
    "metrics['compute_utilisation'] = pd.Series({schedule: calculate_compute_utilisation(schedule) for schedule in schedule_names})\n",
    "metrics['storage_utilisation'] = pd.Series({schedule: calculate_storage_utilisation(schedule) for schedule in schedule_names})"
   ]
  },
  {
   "cell_type": "code",
   "execution_count": 129,
   "id": "07187b0d-64a5-45b3-8dac-366d5883ff1b",
   "metadata": {
    "tags": []
   },
   "outputs": [],
   "source": [
    "metrics = metrics.reindex(schedule_names)\n",
    "metrics.index.rename(None, inplace=True)\n",
    "# sns.set_theme(context='talk', style='whitegrid')\n",
    "sns.set_theme(style='whitegrid')"
   ]
  },
  {
   "cell_type": "code",
   "execution_count": 130,
   "id": "ecd90e09-5db8-4076-ba51-c98939fe9338",
   "metadata": {
    "tags": []
   },
   "outputs": [
    {
     "data": {
      "text/html": [
       "<div>\n",
       "<style scoped>\n",
       "    .dataframe tbody tr th:only-of-type {\n",
       "        vertical-align: middle;\n",
       "    }\n",
       "\n",
       "    .dataframe tbody tr th {\n",
       "        vertical-align: top;\n",
       "    }\n",
       "\n",
       "    .dataframe thead th {\n",
       "        text-align: right;\n",
       "    }\n",
       "</style>\n",
       "<table border=\"1\" class=\"dataframe\">\n",
       "  <thead>\n",
       "    <tr style=\"text-align: right;\">\n",
       "      <th></th>\n",
       "      <th>fcfs</th>\n",
       "    </tr>\n",
       "  </thead>\n",
       "  <tbody>\n",
       "    <tr>\n",
       "      <th>batsim_version</th>\n",
       "      <td>4.0.0</td>\n",
       "    </tr>\n",
       "    <tr>\n",
       "      <th>consumed_joules</th>\n",
       "      <td>0</td>\n",
       "    </tr>\n",
       "    <tr>\n",
       "      <th>makespan</th>\n",
       "      <td>280.931</td>\n",
       "    </tr>\n",
       "    <tr>\n",
       "      <th>max_slowdown</th>\n",
       "      <td>44.8673</td>\n",
       "    </tr>\n",
       "    <tr>\n",
       "      <th>max_turnaround_time</th>\n",
       "      <td>55.0139</td>\n",
       "    </tr>\n",
       "    <tr>\n",
       "      <th>max_waiting_time</th>\n",
       "      <td>40.922</td>\n",
       "    </tr>\n",
       "    <tr>\n",
       "      <th>mean_slowdown</th>\n",
       "      <td>4.1995</td>\n",
       "    </tr>\n",
       "    <tr>\n",
       "      <th>mean_turnaround_time</th>\n",
       "      <td>20.2233</td>\n",
       "    </tr>\n",
       "    <tr>\n",
       "      <th>mean_waiting_time</th>\n",
       "      <td>12.4819</td>\n",
       "    </tr>\n",
       "    <tr>\n",
       "      <th>nb_computing_machines</th>\n",
       "      <td>4</td>\n",
       "    </tr>\n",
       "    <tr>\n",
       "      <th>nb_grouped_switches</th>\n",
       "      <td>0</td>\n",
       "    </tr>\n",
       "    <tr>\n",
       "      <th>nb_jobs</th>\n",
       "      <td>100</td>\n",
       "    </tr>\n",
       "    <tr>\n",
       "      <th>nb_jobs_finished</th>\n",
       "      <td>100</td>\n",
       "    </tr>\n",
       "    <tr>\n",
       "      <th>nb_jobs_killed</th>\n",
       "      <td>0</td>\n",
       "    </tr>\n",
       "    <tr>\n",
       "      <th>nb_jobs_rejected</th>\n",
       "      <td>0</td>\n",
       "    </tr>\n",
       "    <tr>\n",
       "      <th>nb_jobs_success</th>\n",
       "      <td>100</td>\n",
       "    </tr>\n",
       "    <tr>\n",
       "      <th>nb_machine_switches</th>\n",
       "      <td>0</td>\n",
       "    </tr>\n",
       "    <tr>\n",
       "      <th>scheduling_time</th>\n",
       "      <td>0.511429</td>\n",
       "    </tr>\n",
       "    <tr>\n",
       "      <th>simulation_time</th>\n",
       "      <td>0.549704</td>\n",
       "    </tr>\n",
       "    <tr>\n",
       "      <th>success_rate</th>\n",
       "      <td>1</td>\n",
       "    </tr>\n",
       "    <tr>\n",
       "      <th>time_computing</th>\n",
       "      <td>774.132</td>\n",
       "    </tr>\n",
       "    <tr>\n",
       "      <th>time_idle</th>\n",
       "      <td>279.899</td>\n",
       "    </tr>\n",
       "    <tr>\n",
       "      <th>time_sleeping</th>\n",
       "      <td>0</td>\n",
       "    </tr>\n",
       "    <tr>\n",
       "      <th>time_switching_off</th>\n",
       "      <td>0</td>\n",
       "    </tr>\n",
       "    <tr>\n",
       "      <th>time_switching_on</th>\n",
       "      <td>0</td>\n",
       "    </tr>\n",
       "    <tr>\n",
       "      <th>time_unavailable</th>\n",
       "      <td>0</td>\n",
       "    </tr>\n",
       "    <tr>\n",
       "      <th>compute_utilisation</th>\n",
       "      <td>0.0287041</td>\n",
       "    </tr>\n",
       "    <tr>\n",
       "      <th>storage_utilisation</th>\n",
       "      <td>0</td>\n",
       "    </tr>\n",
       "  </tbody>\n",
       "</table>\n",
       "</div>"
      ],
      "text/plain": [
       "                            fcfs\n",
       "batsim_version             4.0.0\n",
       "consumed_joules                0\n",
       "makespan                 280.931\n",
       "max_slowdown             44.8673\n",
       "max_turnaround_time      55.0139\n",
       "max_waiting_time          40.922\n",
       "mean_slowdown             4.1995\n",
       "mean_turnaround_time     20.2233\n",
       "mean_waiting_time        12.4819\n",
       "nb_computing_machines          4\n",
       "nb_grouped_switches            0\n",
       "nb_jobs                      100\n",
       "nb_jobs_finished             100\n",
       "nb_jobs_killed                 0\n",
       "nb_jobs_rejected               0\n",
       "nb_jobs_success              100\n",
       "nb_machine_switches            0\n",
       "scheduling_time         0.511429\n",
       "simulation_time         0.549704\n",
       "success_rate                   1\n",
       "time_computing           774.132\n",
       "time_idle                279.899\n",
       "time_sleeping                  0\n",
       "time_switching_off             0\n",
       "time_switching_on              0\n",
       "time_unavailable               0\n",
       "compute_utilisation    0.0287041\n",
       "storage_utilisation            0"
      ]
     },
     "execution_count": 130,
     "metadata": {},
     "output_type": "execute_result"
    }
   ],
   "source": [
    "metrics.T"
   ]
  },
  {
   "cell_type": "code",
   "execution_count": 131,
   "id": "25fb6221-4f0c-4869-9416-0fea65853f93",
   "metadata": {
    "tags": []
   },
   "outputs": [
    {
     "data": {
      "image/png": "[encoded data removed]",
      "text/plain": [
       "<Figure size 1200x800 with 1 Axes>"
      ]
     },
     "metadata": {},
     "output_type": "display_data"
    }
   ],
   "source": [
    "ax = metrics['makespan'].plot.barh(figsize=(12, 8))\n",
    "ax.grid(axis='y')"
   ]
  },
  {
   "cell_type": "code",
   "execution_count": 132,
   "id": "26f141b1-755a-40ed-aea3-b5ab9e7bc31e",
   "metadata": {
    "tags": []
   },
   "outputs": [
    {
     "data": {
      "image/png": "[encoded data removed]",
      "text/plain": [
       "<Figure size 1400x800 with 1 Axes>"
      ]
     },
     "metadata": {},
     "output_type": "display_data"
    }
   ],
   "source": [
    "ax = metrics[['compute_utilisation']].plot.barh(figsize=(14, 8))\n",
    "ax.grid(axis='y')"
   ]
  },
  {
   "cell_type": "code",
   "execution_count": 133,
   "id": "04084475-40d1-4d6c-b92f-a4dd39716e27",
   "metadata": {
    "tags": []
   },
   "outputs": [
    {
     "data": {
      "text/html": [
       "<div>\n",
       "<style scoped>\n",
       "    .dataframe tbody tr th:only-of-type {\n",
       "        vertical-align: middle;\n",
       "    }\n",
       "\n",
       "    .dataframe tbody tr th {\n",
       "        vertical-align: top;\n",
       "    }\n",
       "\n",
       "    .dataframe thead th {\n",
       "        text-align: right;\n",
       "    }\n",
       "</style>\n",
       "<table border=\"1\" class=\"dataframe\">\n",
       "  <thead>\n",
       "    <tr style=\"text-align: right;\">\n",
       "      <th></th>\n",
       "      <th>schedule</th>\n",
       "      <th>waiting_time</th>\n",
       "      <th>turnaround_time</th>\n",
       "      <th>slowdown</th>\n",
       "    </tr>\n",
       "  </thead>\n",
       "  <tbody>\n",
       "    <tr>\n",
       "      <th>0</th>\n",
       "      <td>fcfs</td>\n",
       "      <td>0.500030</td>\n",
       "      <td>8.110253</td>\n",
       "      <td>1.065705</td>\n",
       "    </tr>\n",
       "    <tr>\n",
       "      <th>1</th>\n",
       "      <td>fcfs</td>\n",
       "      <td>0.500045</td>\n",
       "      <td>7.853963</td>\n",
       "      <td>1.067997</td>\n",
       "    </tr>\n",
       "    <tr>\n",
       "      <th>2</th>\n",
       "      <td>fcfs</td>\n",
       "      <td>8.612239</td>\n",
       "      <td>12.841135</td>\n",
       "      <td>3.036522</td>\n",
       "    </tr>\n",
       "    <tr>\n",
       "      <th>3</th>\n",
       "      <td>fcfs</td>\n",
       "      <td>8.612224</td>\n",
       "      <td>14.331186</td>\n",
       "      <td>2.505907</td>\n",
       "    </tr>\n",
       "    <tr>\n",
       "      <th>4</th>\n",
       "      <td>fcfs</td>\n",
       "      <td>0.500045</td>\n",
       "      <td>3.187835</td>\n",
       "      <td>1.186043</td>\n",
       "    </tr>\n",
       "    <tr>\n",
       "      <th>...</th>\n",
       "      <td>...</td>\n",
       "      <td>...</td>\n",
       "      <td>...</td>\n",
       "      <td>...</td>\n",
       "    </tr>\n",
       "    <tr>\n",
       "      <th>95</th>\n",
       "      <td>fcfs</td>\n",
       "      <td>0.500045</td>\n",
       "      <td>5.336929</td>\n",
       "      <td>1.103382</td>\n",
       "    </tr>\n",
       "    <tr>\n",
       "      <th>96</th>\n",
       "      <td>fcfs</td>\n",
       "      <td>0.500045</td>\n",
       "      <td>3.921081</td>\n",
       "      <td>1.146168</td>\n",
       "    </tr>\n",
       "    <tr>\n",
       "      <th>97</th>\n",
       "      <td>fcfs</td>\n",
       "      <td>1.341909</td>\n",
       "      <td>16.178566</td>\n",
       "      <td>1.090446</td>\n",
       "    </tr>\n",
       "    <tr>\n",
       "      <th>98</th>\n",
       "      <td>fcfs</td>\n",
       "      <td>0.500045</td>\n",
       "      <td>2.674378</td>\n",
       "      <td>1.229976</td>\n",
       "    </tr>\n",
       "    <tr>\n",
       "      <th>99</th>\n",
       "      <td>fcfs</td>\n",
       "      <td>0.500045</td>\n",
       "      <td>17.166239</td>\n",
       "      <td>1.030004</td>\n",
       "    </tr>\n",
       "  </tbody>\n",
       "</table>\n",
       "<p>100 rows × 4 columns</p>\n",
       "</div>"
      ],
      "text/plain": [
       "   schedule  waiting_time  turnaround_time  slowdown\n",
       "0      fcfs      0.500030         8.110253  1.065705\n",
       "1      fcfs      0.500045         7.853963  1.067997\n",
       "2      fcfs      8.612239        12.841135  3.036522\n",
       "3      fcfs      8.612224        14.331186  2.505907\n",
       "4      fcfs      0.500045         3.187835  1.186043\n",
       "..      ...           ...              ...       ...\n",
       "95     fcfs      0.500045         5.336929  1.103382\n",
       "96     fcfs      0.500045         3.921081  1.146168\n",
       "97     fcfs      1.341909        16.178566  1.090446\n",
       "98     fcfs      0.500045         2.674378  1.229976\n",
       "99     fcfs      0.500045        17.166239  1.030004\n",
       "\n",
       "[100 rows x 4 columns]"
      ]
     },
     "execution_count": 133,
     "metadata": {},
     "output_type": "execute_result"
    }
   ],
   "source": [
    "metrics_df = create_all_metrics_df()\n",
    "metrics_df"
   ]
  },
  {
   "cell_type": "code",
   "execution_count": 134,
   "id": "a26b3174-f94f-43e8-84af-873ff01fa5a8",
   "metadata": {
    "tags": []
   },
   "outputs": [
    {
     "data": {
      "text/html": [
       "<div>\n",
       "<style scoped>\n",
       "    .dataframe tbody tr th:only-of-type {\n",
       "        vertical-align: middle;\n",
       "    }\n",
       "\n",
       "    .dataframe tbody tr th {\n",
       "        vertical-align: top;\n",
       "    }\n",
       "\n",
       "    .dataframe thead th {\n",
       "        text-align: right;\n",
       "    }\n",
       "</style>\n",
       "<table border=\"1\" class=\"dataframe\">\n",
       "  <thead>\n",
       "    <tr style=\"text-align: right;\">\n",
       "      <th></th>\n",
       "      <th>fcfs</th>\n",
       "    </tr>\n",
       "  </thead>\n",
       "  <tbody>\n",
       "    <tr>\n",
       "      <th>count</th>\n",
       "      <td>100.000000</td>\n",
       "    </tr>\n",
       "    <tr>\n",
       "      <th>mean</th>\n",
       "      <td>12.481948</td>\n",
       "    </tr>\n",
       "    <tr>\n",
       "      <th>std</th>\n",
       "      <td>11.688733</td>\n",
       "    </tr>\n",
       "    <tr>\n",
       "      <th>min</th>\n",
       "      <td>0.500030</td>\n",
       "    </tr>\n",
       "    <tr>\n",
       "      <th>25%</th>\n",
       "      <td>0.500045</td>\n",
       "    </tr>\n",
       "    <tr>\n",
       "      <th>50%</th>\n",
       "      <td>11.038095</td>\n",
       "    </tr>\n",
       "    <tr>\n",
       "      <th>75%</th>\n",
       "      <td>21.123840</td>\n",
       "    </tr>\n",
       "    <tr>\n",
       "      <th>max</th>\n",
       "      <td>40.921953</td>\n",
       "    </tr>\n",
       "  </tbody>\n",
       "</table>\n",
       "</div>"
      ],
      "text/plain": [
       "             fcfs\n",
       "count  100.000000\n",
       "mean    12.481948\n",
       "std     11.688733\n",
       "min      0.500030\n",
       "25%      0.500045\n",
       "50%     11.038095\n",
       "75%     21.123840\n",
       "max     40.921953"
      ]
     },
     "execution_count": 134,
     "metadata": {},
     "output_type": "execute_result"
    }
   ],
   "source": [
    "waiting_times = create_metric_df('waiting_time')\n",
    "waiting_times.describe()"
   ]
  },
  {
   "cell_type": "code",
   "execution_count": 135,
   "id": "57fe2893-afbb-4564-a4a7-74f3aa555ddb",
   "metadata": {
    "tags": []
   },
   "outputs": [
    {
     "data": {
      "image/png": "[encoded data removed]",
      "text/plain": [
       "<Figure size 1440x400 with 1 Axes>"
      ]
     },
     "metadata": {},
     "output_type": "display_data"
    }
   ],
   "source": [
    "largest = pd.concat([metrics_df[metrics_df.schedule == schedule][['schedule', 'waiting_time']].nlargest(n=4000, columns='waiting_time') for schedule in schedule_names])\n",
    "with sns.plotting_context('talk'):\n",
    "    fig, ax = plt.subplots(figsize=(14.4,4))\n",
    "    sns.stripplot(data=largest, x='schedule', y='waiting_time', ax=ax, size=3, jitter=0.4)\n",
    "    ax.set_ylim(0)\n",
    "    ax.set_ylabel('')\n",
    "    ax.set_xlabel('')\n",
    "fig.savefig('results/waiting-time_dist.pdf', bbox_inches='tight')"
   ]
  },
  {
   "cell_type": "code",
   "execution_count": 136,
   "id": "9632337a-ebce-465e-88ff-76e76f533f64",
   "metadata": {
    "tags": []
   },
   "outputs": [
    {
     "data": {
      "image/png": "[encoded data removed]",
      "text/plain": [
       "<Figure size 720x400 with 1 Axes>"
      ]
     },
     "metadata": {},
     "output_type": "display_data"
    }
   ],
   "source": [
    "fig, ax = plt.subplots(figsize=(7.2,4))\n",
    "sns.barplot(data=waiting_times, ax=ax)\n",
    "fig.savefig('results/waiting-time_mean.pdf', bbox_inches='tight')"
   ]
  },
  {
   "cell_type": "code",
   "execution_count": 137,
   "id": "72c1cc6d-57a4-45d2-baad-fd0140fa610e",
   "metadata": {
    "tags": []
   },
   "outputs": [
    {
     "data": {
      "image/png": "[encoded data removed]",
      "text/plain": [
       "<Figure size 720x400 with 1 Axes>"
      ]
     },
     "metadata": {},
     "output_type": "display_data"
    }
   ],
   "source": [
    "fig, ax = plt.subplots(figsize=(7.2,4))\n",
    "sns.boxenplot(data=waiting_times, k_depth=4, showfliers=False, ax=ax)\n",
    "ax.set_ylim(0)\n",
    "# ax.set_ylim(top=140000)\n",
    "fig.savefig('results/waiting-time_boxen.pdf', bbox_inches='tight')"
   ]
  },
  {
   "cell_type": "code",
   "execution_count": 138,
   "id": "6022e9f0-36ee-4e6d-9c5d-5658ec7327b8",
   "metadata": {
    "tags": []
   },
   "outputs": [
    {
     "data": {
      "text/html": [
       "<div>\n",
       "<style scoped>\n",
       "    .dataframe tbody tr th:only-of-type {\n",
       "        vertical-align: middle;\n",
       "    }\n",
       "\n",
       "    .dataframe tbody tr th {\n",
       "        vertical-align: top;\n",
       "    }\n",
       "\n",
       "    .dataframe thead th {\n",
       "        text-align: right;\n",
       "    }\n",
       "</style>\n",
       "<table border=\"1\" class=\"dataframe\">\n",
       "  <thead>\n",
       "    <tr style=\"text-align: right;\">\n",
       "      <th></th>\n",
       "      <th>fcfs</th>\n",
       "    </tr>\n",
       "  </thead>\n",
       "  <tbody>\n",
       "    <tr>\n",
       "      <th>count</th>\n",
       "      <td>100.000000</td>\n",
       "    </tr>\n",
       "    <tr>\n",
       "      <th>mean</th>\n",
       "      <td>20.223265</td>\n",
       "    </tr>\n",
       "    <tr>\n",
       "      <th>std</th>\n",
       "      <td>13.040180</td>\n",
       "    </tr>\n",
       "    <tr>\n",
       "      <th>min</th>\n",
       "      <td>1.237354</td>\n",
       "    </tr>\n",
       "    <tr>\n",
       "      <th>25%</th>\n",
       "      <td>8.371938</td>\n",
       "    </tr>\n",
       "    <tr>\n",
       "      <th>50%</th>\n",
       "      <td>19.111500</td>\n",
       "    </tr>\n",
       "    <tr>\n",
       "      <th>75%</th>\n",
       "      <td>29.514342</td>\n",
       "    </tr>\n",
       "    <tr>\n",
       "      <th>max</th>\n",
       "      <td>55.013868</td>\n",
       "    </tr>\n",
       "  </tbody>\n",
       "</table>\n",
       "</div>"
      ],
      "text/plain": [
       "             fcfs\n",
       "count  100.000000\n",
       "mean    20.223265\n",
       "std     13.040180\n",
       "min      1.237354\n",
       "25%      8.371938\n",
       "50%     19.111500\n",
       "75%     29.514342\n",
       "max     55.013868"
      ]
     },
     "execution_count": 138,
     "metadata": {},
     "output_type": "execute_result"
    }
   ],
   "source": [
    "turnaround_times = create_metric_df('turnaround_time')\n",
    "turnaround_times.describe()"
   ]
  },
  {
   "cell_type": "code",
   "execution_count": 139,
   "id": "d26e9119-4a86-44c7-a5ff-23144fc2d7a4",
   "metadata": {
    "tags": []
   },
   "outputs": [
    {
     "data": {
      "image/png": "[encoded data removed]",
      "text/plain": [
       "<Figure size 1440x400 with 1 Axes>"
      ]
     },
     "metadata": {},
     "output_type": "display_data"
    }
   ],
   "source": [
    "largest = pd.concat([metrics_df[metrics_df.schedule == schedule][['schedule', 'turnaround_time']].nlargest(n=4000, columns='turnaround_time') for schedule in schedule_names])\n",
    "with sns.plotting_context('talk'):\n",
    "    fig, ax = plt.subplots(figsize=(14.4,4))\n",
    "    sns.stripplot(data=largest, x='schedule', y='turnaround_time', ax=ax, size=3, jitter=0.4)\n",
    "    ax.set_ylim(0)\n",
    "#     ax.set_ylim(top=2.5*10**6)\n",
    "    ax.set_ylabel('')\n",
    "    ax.set_xlabel('')\n",
    "fig.savefig('results/turnaround-time_dist.pdf', bbox_inches='tight')"
   ]
  },
  {
   "cell_type": "code",
   "execution_count": 140,
   "id": "e36ed4ef-7693-4edd-afd4-a5b8301c4a4f",
   "metadata": {
    "tags": []
   },
   "outputs": [
    {
     "data": {
      "image/png": "[encoded data removed]",
      "text/plain": [
       "<Figure size 720x400 with 1 Axes>"
      ]
     },
     "metadata": {},
     "output_type": "display_data"
    }
   ],
   "source": [
    "fig, ax = plt.subplots(figsize=(7.2,4))\n",
    "sns.barplot(data=turnaround_times, ax=ax)\n",
    "fig.savefig('results/turnaround-time_mean.pdf', bbox_inches='tight')"
   ]
  },
  {
   "cell_type": "code",
   "execution_count": 141,
   "id": "9f553d49-a382-420b-87f4-8a4cf573bad2",
   "metadata": {
    "tags": []
   },
   "outputs": [
    {
     "data": {
      "image/png": "[encoded data removed]",
      "text/plain": [
       "<Figure size 720x400 with 1 Axes>"
      ]
     },
     "metadata": {},
     "output_type": "display_data"
    }
   ],
   "source": [
    "fig, ax = plt.subplots(figsize=(7.2,4))\n",
    "sns.boxenplot(data=turnaround_times, k_depth=4, showfliers=False, ax=ax)\n",
    "ax.set_ylim(0)\n",
    "# ax.set_ylim(top=140000)\n",
    "fig.savefig('results/turnaround-time_boxen.pdf', bbox_inches='tight')"
   ]
  },
  {
   "cell_type": "code",
   "execution_count": 142,
   "id": "1fb1b20f-96e7-424b-b06f-6dbc55a461a7",
   "metadata": {
    "tags": []
   },
   "outputs": [
    {
     "data": {
      "text/html": [
       "<div>\n",
       "<style scoped>\n",
       "    .dataframe tbody tr th:only-of-type {\n",
       "        vertical-align: middle;\n",
       "    }\n",
       "\n",
       "    .dataframe tbody tr th {\n",
       "        vertical-align: top;\n",
       "    }\n",
       "\n",
       "    .dataframe thead th {\n",
       "        text-align: right;\n",
       "    }\n",
       "</style>\n",
       "<table border=\"1\" class=\"dataframe\">\n",
       "  <thead>\n",
       "    <tr style=\"text-align: right;\">\n",
       "      <th></th>\n",
       "      <th>fcfs</th>\n",
       "    </tr>\n",
       "  </thead>\n",
       "  <tbody>\n",
       "    <tr>\n",
       "      <th>count</th>\n",
       "      <td>100.000000</td>\n",
       "    </tr>\n",
       "    <tr>\n",
       "      <th>mean</th>\n",
       "      <td>4.199502</td>\n",
       "    </tr>\n",
       "    <tr>\n",
       "      <th>std</th>\n",
       "      <td>6.633093</td>\n",
       "    </tr>\n",
       "    <tr>\n",
       "      <th>min</th>\n",
       "      <td>1.026916</td>\n",
       "    </tr>\n",
       "    <tr>\n",
       "      <th>25%</th>\n",
       "      <td>1.166315</td>\n",
       "    </tr>\n",
       "    <tr>\n",
       "      <th>50%</th>\n",
       "      <td>2.472715</td>\n",
       "    </tr>\n",
       "    <tr>\n",
       "      <th>75%</th>\n",
       "      <td>3.748730</td>\n",
       "    </tr>\n",
       "    <tr>\n",
       "      <th>max</th>\n",
       "      <td>44.867339</td>\n",
       "    </tr>\n",
       "  </tbody>\n",
       "</table>\n",
       "</div>"
      ],
      "text/plain": [
       "             fcfs\n",
       "count  100.000000\n",
       "mean     4.199502\n",
       "std      6.633093\n",
       "min      1.026916\n",
       "25%      1.166315\n",
       "50%      2.472715\n",
       "75%      3.748730\n",
       "max     44.867339"
      ]
     },
     "execution_count": 142,
     "metadata": {},
     "output_type": "execute_result"
    }
   ],
   "source": [
    "slowdown = create_metric_df('stretch')\n",
    "slowdown.describe()"
   ]
  },
  {
   "cell_type": "code",
   "execution_count": 143,
   "id": "7ceb6d34-6388-4c04-af12-03518f52867b",
   "metadata": {
    "tags": []
   },
   "outputs": [
    {
     "data": {
      "image/png": "[encoded data removed]",
      "text/plain": [
       "<Figure size 1440x400 with 1 Axes>"
      ]
     },
     "metadata": {},
     "output_type": "display_data"
    }
   ],
   "source": [
    "# Scatterplot, outliers\n",
    "largest = pd.concat([metrics_df[metrics_df.schedule == schedule][['schedule', 'slowdown']].nlargest(n=4000, columns='slowdown') for schedule in schedule_names])\n",
    "with sns.plotting_context('talk'):\n",
    "    fig, ax = plt.subplots(figsize=(14.4,4))\n",
    "    sns.stripplot(data=largest, x='schedule', y='slowdown', ax=ax, size=3, jitter=0.4)\n",
    "    ax.set_ylim(0)\n",
    "    ax.set_ylabel('')\n",
    "    ax.set_xlabel('')\n",
    "fig.savefig('results/slowdown_dist.pdf', bbox_inches='tight')"
   ]
  },
  {
   "cell_type": "code",
   "execution_count": 144,
   "id": "a513ec45-c538-4d3a-8f97-f187e069e034",
   "metadata": {
    "tags": []
   },
   "outputs": [
    {
     "data": {
      "image/png": "[encoded data removed]",
      "text/plain": [
       "<Figure size 720x400 with 1 Axes>"
      ]
     },
     "metadata": {},
     "output_type": "display_data"
    }
   ],
   "source": [
    "# Mean, logscale\n",
    "fig, ax = plt.subplots(figsize=(7.2,4))\n",
    "sns.barplot(data=slowdown, ax=ax)\n",
    "fig.savefig('results/slowdown_mean.pdf', bbox_inches='tight')"
   ]
  },
  {
   "cell_type": "code",
   "execution_count": 145,
   "id": "c72eceb7-c8d0-4466-876f-401fc79aa10d",
   "metadata": {
    "tags": []
   },
   "outputs": [
    {
     "data": {
      "image/png": "[encoded data removed]",
      "text/plain": [
       "<Figure size 720x400 with 1 Axes>"
      ]
     },
     "metadata": {},
     "output_type": "display_data"
    }
   ],
   "source": [
    "fig, ax = plt.subplots(figsize=(7.2,4))\n",
    "sns.boxenplot(data=slowdown, k_depth=4, showfliers=False, ax=ax)\n",
    "ax.set_ylim(0)\n",
    "# ax.set_ylim(top=140000)\n",
    "fig.savefig('results/slowdown_boxen.pdf', bbox_inches='tight')"
   ]
  },
  {
   "cell_type": "code",
   "execution_count": 146,
   "id": "67379fb3-c2ad-47fe-81f8-e159a565fcc7",
   "metadata": {
    "tags": []
   },
   "outputs": [],
   "source": [
    "# FCFS"
   ]
  },
  {
   "cell_type": "code",
   "execution_count": 147,
   "id": "4e20b1b5-996c-4274-bd5b-81984ec2d880",
   "metadata": {
    "tags": []
   },
   "outputs": [
    {
     "data": {
      "image/png": "[encoded data removed]",
      "text/plain": [
       "<Figure size 2000x800 with 1 Axes>"
      ]
     },
     "metadata": {},
     "output_type": "display_data"
    }
   ],
   "source": [
    "fig, ax = plt.subplots(figsize=(20,8))\n",
    "evalys.visu.legacy.plot_load(jobsets['fcfs'].queue, nb_resources=96, ax=ax)"
   ]
  },
  {
   "cell_type": "code",
   "execution_count": 148,
   "id": "7e19a5a4-2ce1-42f2-9434-c14934fa4e7d",
   "metadata": {
    "tags": []
   },
   "outputs": [
    {
     "data": {
      "image/png": "[encoded data removed]",
      "text/plain": [
       "<Figure size 640x480 with 1 Axes>"
      ]
     },
     "metadata": {},
     "output_type": "display_data"
    }
   ],
   "source": [
    "evalys.visu.legacy.plot_series('waiting_time', jobsets)"
   ]
  },
  {
   "cell_type": "code",
   "execution_count": null,
   "id": "362ceed1-0471-4915-b8f3-12a03423485d",
   "metadata": {},
   "outputs": [],
   "source": []
  }
 ],
 "metadata": {
  "kernelspec": {
   "display_name": "Python 3 (ipykernel)",
   "language": "python",
   "name": "python3"
  },
  "language_info": {
   "codemirror_mode": {
    "name": "ipython",
    "version": 3
   },
   "file_extension": ".py",
   "mimetype": "text/x-python",
   "name": "python",
   "nbconvert_exporter": "python",
   "pygments_lexer": "ipython3",
   "version": "3.8.18"
  }
 },
 "nbformat": 4,
 "nbformat_minor": 5
}
