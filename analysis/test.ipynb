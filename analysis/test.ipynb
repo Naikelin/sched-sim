{
 "cells": [
  {
   "cell_type": "code",
   "execution_count": 1,
   "metadata": {},
   "outputs": [],
   "source": [
    "schedule_names = ['test']\n",
    "nombres = ' '.join(schedule_names)"
   ]
  },
  {
   "cell_type": "code",
   "execution_count": 2,
   "metadata": {},
   "outputs": [
    {
     "name": "stdout",
     "output_type": "stream",
     "text": [
      "time=\"2023-11-20 20:24:01.699\" level=info msg=\"Waiting for valid context\" batsim command=\"batsim -p platforms/generated.xml -w workloads/workload.json -e output/test/test\" extracted socket endpoint=\"tcp://localhost:28000\" ready timeout (seconds)=10\n",
      "time=\"2023-11-20 20:24:01.702\" level=info msg=\"Starting simulation\" batsim cmdfile=output/test/test/cmd/batsim.bash batsim command=\"batsim -p platforms/generated.xml -w workloads/workload.json -e output/test/test\" batsim logfile=output/test/test/log/batsim.log scheduler cmdfile=output/test/test/cmd/sched.bash scheduler command=\"python -m pybatsim --options-file configs/fcfs.json schedulers/AllocOnly_sched.py\" scheduler logfile (err)=output/test/test/log/sched.err.log scheduler logfile (out)=output/test/test/log/sched.out.log simulation timeout (seconds)=604800\n",
      "time=\"2023-11-20 20:25:04.902\" level=info msg=\"Simulation subprocess succeeded\" command=\"batsim -p platforms/generated.xml -w workloads/workload.json -e output/test/test\" command file=output/test/test/cmd/batsim.bash process name=Batsim stderr file=output/test/test/log/batsim.log stdout file=/dev/null\n",
      "time=\"2023-11-20 20:25:04.902\" level=info msg=\"The second process might be killed soon...\" potential victim name=Scheduler success timeout (seconds)=3600\n",
      "time=\"2023-11-20 20:25:04.963\" level=info msg=\"Simulation subprocess succeeded\" command=\"python -m pybatsim --options-file configs/fcfs.json schedulers/AllocOnly_sched.py\" command file=output/test/test/cmd/sched.bash process name=Scheduler stderr file=output/test/test/log/sched.err.log stdout file=output/test/test/log/sched.out.log\n"
     ]
    }
   ],
   "source": [
    "%%bash -s \"$nombres\"\n",
    "cd ..\n",
    "./utils/scripts/run-sim.sh $1"
   ]
  },
  {
   "cell_type": "code",
   "execution_count": null,
   "metadata": {},
   "outputs": [],
   "source": []
  }
 ],
 "metadata": {
  "kernelspec": {
   "display_name": "sched-sim_3.8",
   "language": "python",
   "name": "python3"
  },
  "language_info": {
   "codemirror_mode": {
    "name": "ipython",
    "version": 3
   },
   "file_extension": ".py",
   "mimetype": "text/x-python",
   "name": "python",
   "nbconvert_exporter": "python",
   "pygments_lexer": "ipython3",
   "version": "3.8.18"
  }
 },
 "nbformat": 4,
 "nbformat_minor": 2
}
