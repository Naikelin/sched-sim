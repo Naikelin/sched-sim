{
 "cells": [
  {
   "cell_type": "markdown",
   "id": "44cbb60e-418a-4c54-be4b-a37f7996935b",
   "metadata": {},
   "source": [
    "# Instalamos las dependencias\n",
    "Necesitamos numpy y pandas"
   ]
  },
  {
   "cell_type": "code",
   "execution_count": 1,
   "id": "80645fbf-7c24-48fc-86d9-4fbc55da049f",
   "metadata": {
    "tags": []
   },
   "outputs": [
    {
     "name": "stdout",
     "output_type": "stream",
     "text": [
      "\u001b[33mWARNING: The directory '/home/jovyan/.cache/pip' or its parent directory is not owned or is not writable by the current user. The cache has been disabled. Check the permissions and owner of that directory. If executing pip with sudo, you should use sudo's -H flag.\u001b[0m\u001b[33m\n",
      "\u001b[0mDefaulting to user installation because normal site-packages is not writeable\n",
      "Requirement already satisfied: pandas==0.25.3 in /home/jovyan/.local/lib/python3.8/site-packages (from -r requirements.txt (line 1)) (0.25.3)\n",
      "Requirement already satisfied: numpy~=1.19.0 in /home/jovyan/.local/lib/python3.8/site-packages (from -r requirements.txt (line 2)) (1.19.5)\n",
      "Requirement already satisfied: matplotlib~=3.1.3 in /home/jovyan/.local/lib/python3.8/site-packages (from -r requirements.txt (line 3)) (3.1.3)\n",
      "Requirement already satisfied: networkx in /home/jovyan/.local/lib/python3.8/site-packages (from -r requirements.txt (line 4)) (3.1)\n",
      "Requirement already satisfied: pygraphviz in /home/jovyan/.local/lib/python3.8/site-packages (from -r requirements.txt (line 5)) (1.11)\n",
      "Requirement already satisfied: python-dateutil>=2.6.1 in /opt/conda/envs/myenv/lib/python3.8/site-packages (from pandas==0.25.3->-r requirements.txt (line 1)) (2.8.2)\n",
      "Requirement already satisfied: pytz>=2017.2 in /opt/conda/envs/myenv/lib/python3.8/site-packages (from pandas==0.25.3->-r requirements.txt (line 1)) (2022.7)\n",
      "Requirement already satisfied: cycler>=0.10 in /home/jovyan/.local/lib/python3.8/site-packages (from matplotlib~=3.1.3->-r requirements.txt (line 3)) (0.11.0)\n",
      "Requirement already satisfied: kiwisolver>=1.0.1 in /home/jovyan/.local/lib/python3.8/site-packages (from matplotlib~=3.1.3->-r requirements.txt (line 3)) (1.4.5)\n",
      "Requirement already satisfied: pyparsing!=2.0.4,!=2.1.2,!=2.1.6,>=2.0.1 in /home/jovyan/.local/lib/python3.8/site-packages (from matplotlib~=3.1.3->-r requirements.txt (line 3)) (3.1.1)\n",
      "Requirement already satisfied: six>=1.5 in /opt/conda/envs/myenv/lib/python3.8/site-packages (from python-dateutil>=2.6.1->pandas==0.25.3->-r requirements.txt (line 1)) (1.16.0)\n"
     ]
    }
   ],
   "source": [
    "#!conda install -y numpy pandas \n",
    "!pip install -r requirements.txt"
   ]
  },
  {
   "cell_type": "code",
   "execution_count": 8,
   "id": "358ad7dc-f016-4609-b648-4fa6be726c2e",
   "metadata": {
    "tags": []
   },
   "outputs": [],
   "source": [
    "from src.ProfileGenerator import ProfileGenerator"
   ]
  },
  {
   "cell_type": "code",
   "execution_count": 14,
   "id": "7d7556e5-957e-414e-bd3d-92ff0f5fdb77",
   "metadata": {
    "tags": []
   },
   "outputs": [
    {
     "ename": "AssertionError",
     "evalue": "",
     "output_type": "error",
     "traceback": [
      "\u001b[0;31m---------------------------------------------------------------------------\u001b[0m",
      "\u001b[0;31mAssertionError\u001b[0m                            Traceback (most recent call last)",
      "Cell \u001b[0;32mIn[14], line 6\u001b[0m\n\u001b[1;32m      4\u001b[0m \u001b[38;5;66;03m# Generar perfiles\u001b[39;00m\n\u001b[1;32m      5\u001b[0m number_of_profiles \u001b[38;5;241m=\u001b[39m \u001b[38;5;241m50\u001b[39m\n\u001b[0;32m----> 6\u001b[0m \u001b[43mgenerator\u001b[49m\u001b[38;5;241;43m.\u001b[39;49m\u001b[43mgenerate\u001b[49m\u001b[43m(\u001b[49m\u001b[43mnumber_of_profiles\u001b[49m\u001b[43m,\u001b[49m\u001b[43m \u001b[49m\u001b[43mlow_percent\u001b[49m\u001b[38;5;241;43m=\u001b[39;49m\u001b[38;5;241;43m0.7\u001b[39;49m\u001b[43m,\u001b[49m\u001b[43m \u001b[49m\u001b[43mmed_percent\u001b[49m\u001b[38;5;241;43m=\u001b[39;49m\u001b[38;5;241;43m0.4\u001b[39;49m\u001b[43m,\u001b[49m\u001b[43m \u001b[49m\u001b[43mhigh_percent\u001b[49m\u001b[38;5;241;43m=\u001b[39;49m\u001b[38;5;241;43m0.0\u001b[39;49m\u001b[43m)\u001b[49m\n",
      "File \u001b[0;32m~/work/utils/workloads-gen/src/ProfileGenerator.py:81\u001b[0m, in \u001b[0;36mProfileGenerator.generate\u001b[0;34m(self, number_of_profiles, low_percent, med_percent, high_percent)\u001b[0m\n\u001b[1;32m     80\u001b[0m \u001b[38;5;28;01mdef\u001b[39;00m \u001b[38;5;21mgenerate\u001b[39m(\u001b[38;5;28mself\u001b[39m, number_of_profiles\u001b[38;5;241m=\u001b[39m\u001b[38;5;241m10\u001b[39m, low_percent\u001b[38;5;241m=\u001b[39m\u001b[38;5;241m0.3\u001b[39m, med_percent\u001b[38;5;241m=\u001b[39m\u001b[38;5;241m0.4\u001b[39m, high_percent\u001b[38;5;241m=\u001b[39m\u001b[38;5;241m0.3\u001b[39m):\n\u001b[0;32m---> 81\u001b[0m     \u001b[38;5;28;01massert\u001b[39;00m low_percent \u001b[38;5;241m+\u001b[39m med_percent \u001b[38;5;241m+\u001b[39m high_percent \u001b[38;5;241m==\u001b[39m \u001b[38;5;241m1.0\u001b[39m\n\u001b[1;32m     83\u001b[0m     num_low \u001b[38;5;241m=\u001b[39m \u001b[38;5;28mint\u001b[39m(number_of_profiles \u001b[38;5;241m*\u001b[39m low_percent)\n\u001b[1;32m     84\u001b[0m     num_med \u001b[38;5;241m=\u001b[39m \u001b[38;5;28mint\u001b[39m(number_of_profiles \u001b[38;5;241m*\u001b[39m med_percent)\n",
      "\u001b[0;31mAssertionError\u001b[0m: "
     ]
    }
   ],
   "source": [
    "# Crear una instancia del generador de perfiles\n",
    "generator = ProfileGenerator(max_resources=4)\n",
    "\n",
    "# Generar perfiles\n",
    "number_of_profiles = 50\n",
    "generator.generate(number_of_profiles, low_percent=0.7, med_percent=0.4, high_percent=0.0)"
   ]
  },
  {
   "cell_type": "code",
   "execution_count": 10,
   "id": "34facb28-ae1d-4b35-806e-39b5ea49646c",
   "metadata": {
    "tags": []
   },
   "outputs": [
    {
     "data": {
      "text/html": [
       "<div>\n",
       "<style scoped>\n",
       "    .dataframe tbody tr th:only-of-type {\n",
       "        vertical-align: middle;\n",
       "    }\n",
       "\n",
       "    .dataframe tbody tr th {\n",
       "        vertical-align: top;\n",
       "    }\n",
       "\n",
       "    .dataframe thead th {\n",
       "        text-align: right;\n",
       "    }\n",
       "</style>\n",
       "<table border=\"1\" class=\"dataframe\">\n",
       "  <thead>\n",
       "    <tr style=\"text-align: right;\">\n",
       "      <th></th>\n",
       "    </tr>\n",
       "  </thead>\n",
       "  <tbody>\n",
       "  </tbody>\n",
       "</table>\n",
       "</div>"
      ],
      "text/plain": [
       "Empty DataFrame\n",
       "Columns: []\n",
       "Index: []"
      ]
     },
     "execution_count": 10,
     "metadata": {},
     "output_type": "execute_result"
    }
   ],
   "source": [
    "# Convertir los perfiles a un DataFrame de pandas y mostrarlo\n",
    "df = generator.to_dataframe()\n",
    "df.head()"
   ]
  },
  {
   "cell_type": "code",
   "execution_count": 12,
   "id": "e1205437-32f0-4a2a-abf8-59929d007990",
   "metadata": {},
   "outputs": [],
   "source": [
    "# Convertir los perfiles a una representación JSON y mostrarla\n",
    "json_representation = generator.to_json()"
   ]
  },
  {
   "cell_type": "code",
   "execution_count": null,
   "id": "f58cefef-296a-478e-991f-fedb911d6fa0",
   "metadata": {},
   "outputs": [],
   "source": []
  }
 ],
 "metadata": {
  "kernelspec": {
   "display_name": "Python 3 (ipykernel)",
   "language": "python",
   "name": "python3"
  },
  "language_info": {
   "codemirror_mode": {
    "name": "ipython",
    "version": 3
   },
   "file_extension": ".py",
   "mimetype": "text/x-python",
   "name": "python",
   "nbconvert_exporter": "python",
   "pygments_lexer": "ipython3",
   "version": "3.8.18"
  }
 },
 "nbformat": 4,
 "nbformat_minor": 5
}
