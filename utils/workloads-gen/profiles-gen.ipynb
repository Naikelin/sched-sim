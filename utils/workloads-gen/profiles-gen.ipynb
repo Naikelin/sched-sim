{
 "cells": [
  {
   "cell_type": "markdown",
   "id": "44cbb60e-418a-4c54-be4b-a37f7996935b",
   "metadata": {},
   "source": [
    "# Instalamos las dependencias\n",
    "Necesitamos numpy y pandas"
   ]
  },
  {
   "cell_type": "code",
   "execution_count": 7,
   "id": "80645fbf-7c24-48fc-86d9-4fbc55da049f",
   "metadata": {
    "tags": []
   },
   "outputs": [
    {
     "name": "stdout",
     "output_type": "stream",
     "text": [
      "\u001b[33mWARNING: The directory '/home/jovyan/.cache/pip' or its parent directory is not owned or is not writable by the current user. The cache has been disabled. Check the permissions and owner of that directory. If executing pip with sudo, you should use sudo's -H flag.\u001b[0m\u001b[33m\n",
      "\u001b[0mDefaulting to user installation because normal site-packages is not writeable\n",
      "Collecting pandas==0.25.3 (from -r requirements.txt (line 1))\n",
      "  Downloading pandas-0.25.3-cp38-cp38-manylinux1_x86_64.whl (10.4 MB)\n",
      "\u001b[2K     \u001b[90m━━━━━━━━━━━━━━━━━━━━━━━━━━━━━━━━━━━━━━━━\u001b[0m \u001b[32m10.4/10.4 MB\u001b[0m \u001b[31m4.7 MB/s\u001b[0m eta \u001b[36m0:00:00\u001b[0ma \u001b[36m0:00:01\u001b[0m\n",
      "\u001b[?25hCollecting numpy~=1.19.0 (from -r requirements.txt (line 2))\n",
      "  Downloading numpy-1.19.5-cp38-cp38-manylinux2010_x86_64.whl (14.9 MB)\n",
      "\u001b[2K     \u001b[90m━━━━━━━━━━━━━━━━━━━━━━━━━━━━━━━━━━━━━━━━\u001b[0m \u001b[32m14.9/14.9 MB\u001b[0m \u001b[31m3.9 MB/s\u001b[0m eta \u001b[36m0:00:00\u001b[0ma \u001b[36m0:00:01\u001b[0m\n",
      "\u001b[?25hCollecting matplotlib~=3.1.3 (from -r requirements.txt (line 3))\n",
      "  Downloading matplotlib-3.1.3-cp38-cp38-manylinux1_x86_64.whl (13.1 MB)\n",
      "\u001b[2K     \u001b[90m━━━━━━━━━━━━━━━━━━━━━━━━━━━━━━━━━━━━━━━━\u001b[0m \u001b[32m13.1/13.1 MB\u001b[0m \u001b[31m3.1 MB/s\u001b[0m eta \u001b[36m0:00:00\u001b[0ma \u001b[36m0:00:01\u001b[0m\n",
      "\u001b[?25hRequirement already satisfied: python-dateutil>=2.6.1 in /opt/conda/envs/myenv/lib/python3.8/site-packages (from pandas==0.25.3->-r requirements.txt (line 1)) (2.8.2)\n",
      "Requirement already satisfied: pytz>=2017.2 in /opt/conda/envs/myenv/lib/python3.8/site-packages (from pandas==0.25.3->-r requirements.txt (line 1)) (2022.7)\n",
      "Collecting cycler>=0.10 (from matplotlib~=3.1.3->-r requirements.txt (line 3))\n",
      "  Downloading cycler-0.11.0-py3-none-any.whl (6.4 kB)\n",
      "Collecting kiwisolver>=1.0.1 (from matplotlib~=3.1.3->-r requirements.txt (line 3))\n",
      "  Obtaining dependency information for kiwisolver>=1.0.1 from https://files.pythonhosted.org/packages/d2/55/7021ffcc8cb26a520bb051aa0a3d08daf200cde945e5863d5768161e2d3d/kiwisolver-1.4.5-cp38-cp38-manylinux_2_5_x86_64.manylinux1_x86_64.whl.metadata\n",
      "  Downloading kiwisolver-1.4.5-cp38-cp38-manylinux_2_5_x86_64.manylinux1_x86_64.whl.metadata (6.4 kB)\n",
      "Collecting pyparsing!=2.0.4,!=2.1.2,!=2.1.6,>=2.0.1 (from matplotlib~=3.1.3->-r requirements.txt (line 3))\n",
      "  Obtaining dependency information for pyparsing!=2.0.4,!=2.1.2,!=2.1.6,>=2.0.1 from https://files.pythonhosted.org/packages/39/92/8486ede85fcc088f1b3dba4ce92dd29d126fd96b0008ea213167940a2475/pyparsing-3.1.1-py3-none-any.whl.metadata\n",
      "  Downloading pyparsing-3.1.1-py3-none-any.whl.metadata (5.1 kB)\n",
      "Requirement already satisfied: six>=1.5 in /opt/conda/envs/myenv/lib/python3.8/site-packages (from python-dateutil>=2.6.1->pandas==0.25.3->-r requirements.txt (line 1)) (1.16.0)\n",
      "Downloading kiwisolver-1.4.5-cp38-cp38-manylinux_2_5_x86_64.manylinux1_x86_64.whl (1.2 MB)\n",
      "\u001b[2K   \u001b[90m━━━━━━━━━━━━━━━━━━━━━━━━━━━━━━━━━━━━━━━━\u001b[0m \u001b[32m1.2/1.2 MB\u001b[0m \u001b[31m37.5 MB/s\u001b[0m eta \u001b[36m0:00:00\u001b[0m\n",
      "\u001b[?25hDownloading pyparsing-3.1.1-py3-none-any.whl (103 kB)\n",
      "\u001b[2K   \u001b[90m━━━━━━━━━━━━━━━━━━━━━━━━━━━━━━━━━━━━━━━\u001b[0m \u001b[32m103.1/103.1 kB\u001b[0m \u001b[31m271.6 MB/s\u001b[0m eta \u001b[36m0:00:00\u001b[0m\n",
      "\u001b[?25hInstalling collected packages: pyparsing, numpy, kiwisolver, cycler, pandas, matplotlib\n",
      "  Attempting uninstall: numpy\n",
      "    Found existing installation: numpy 1.24.4\n",
      "    Uninstalling numpy-1.24.4:\n",
      "      Successfully uninstalled numpy-1.24.4\n",
      "\u001b[33m  WARNING: The scripts f2py, f2py3 and f2py3.8 are installed in '/home/jovyan/.local/bin' which is not on PATH.\n",
      "  Consider adding this directory to PATH or, if you prefer to suppress this warning, use --no-warn-script-location.\u001b[0m\u001b[33m\n",
      "\u001b[0m  Attempting uninstall: pandas\n",
      "    Found existing installation: pandas 2.0.3\n",
      "    Uninstalling pandas-2.0.3:\n",
      "      Successfully uninstalled pandas-2.0.3\n",
      "Successfully installed cycler-0.11.0 kiwisolver-1.4.5 matplotlib-3.1.3 numpy-1.19.5 pandas-0.25.3 pyparsing-3.1.1\n"
     ]
    }
   ],
   "source": [
    "#!conda install -y numpy pandas \n",
    "!pip install -r requirements.txt"
   ]
  },
  {
   "cell_type": "code",
   "execution_count": 10,
   "id": "358ad7dc-f016-4609-b648-4fa6be726c2e",
   "metadata": {
    "tags": []
   },
   "outputs": [],
   "source": [
    "import numpy as np\n",
    "import pandas as pd\n",
    "import json\n",
    "\n",
    "class ProfileGenerator:\n",
    "    \n",
    "    def __init__(self):\n",
    "        self.profiles = {}\n",
    "        \n",
    "    def generate_low_profile(self):\n",
    "        cpu = np.random.uniform(1e7, 1e9)\n",
    "        com = np.random.uniform(1024, 1e6)\n",
    "        profile_name = f\"low_{len(self.profiles) + 1}\"\n",
    "        self.profiles[profile_name] = {\n",
    "            \"type\": \"parallel_homogeneous\",\n",
    "            \"cpu\": cpu,\n",
    "            \"com\": com\n",
    "        }\n",
    "        return profile_name\n",
    "\n",
    "    def generate_med_profile(self):\n",
    "        if np.random.choice([True, False]):\n",
    "            cpu = np.random.uniform(1e7, 1e9)\n",
    "            com = np.random.uniform(1e9, 1e12)\n",
    "        else:\n",
    "            cpu = np.random.uniform(1e12, 2e12)\n",
    "            com = np.random.uniform(1024, 1e6)\n",
    "        profile_name = f\"med_{len(self.profiles) + 1}\"\n",
    "        self.profiles[profile_name] = {\n",
    "            \"type\": \"parallel_homogeneous\",\n",
    "            \"cpu\": cpu,\n",
    "            \"com\": com\n",
    "        }\n",
    "        return profile_name\n",
    "\n",
    "    def generate_high_profile(self):\n",
    "        cpu = np.random.uniform(1e12, 2e12)\n",
    "        com = np.random.uniform(1e9, 1e12)\n",
    "        profile_name = f\"high_{len(self.profiles) + 1}\"\n",
    "        self.profiles[profile_name] = {\n",
    "            \"type\": \"parallel_homogeneous\",\n",
    "            \"cpu\": cpu,\n",
    "            \"com\": com\n",
    "        }\n",
    "        return profile_name\n",
    "\n",
    "    def generate(self, number_of_profiles=10, low_percent=0.3, med_percent=0.4, high_percent=0.3):\n",
    "        num_low = int(number_of_profiles * low_percent)\n",
    "        num_med = int(number_of_profiles * med_percent)\n",
    "        num_high = number_of_profiles - num_low - num_med\n",
    "\n",
    "        for _ in range(num_low):\n",
    "            self.generate_low_profile()\n",
    "\n",
    "        for _ in range(num_med):\n",
    "            self.generate_med_profile()\n",
    "\n",
    "        for _ in range(num_high):\n",
    "            self.generate_high_profile()\n",
    "        \n",
    "        return self.profiles"
   ]
  },
  {
   "cell_type": "code",
   "execution_count": 12,
   "id": "7d7556e5-957e-414e-bd3d-92ff0f5fdb77",
   "metadata": {
    "tags": []
   },
   "outputs": [
    {
     "name": "stdout",
     "output_type": "stream",
     "text": [
      "\n",
      "Generated Profiles Percentage:\n",
      "-------------------------------\n",
      "  Task Type  Percentage\n",
      "0      high        30.0\n",
      "1       low        30.0\n",
      "2       med        40.0\n"
     ]
    }
   ],
   "source": [
    "generator = ProfileGenerator()\n",
    "profiles = generator.generate(50)\n",
    "with open('profiles.json', 'w') as file:\n",
    "    json.dump(profiles, file)\n",
    "\n",
    "df = pd.DataFrame(profiles).T.reset_index()\n",
    "df['task_type'] = df['index'].str.split('_').str[0]\n",
    "profile_counts = df.groupby('task_type').size()\n",
    "percentages = profile_counts / len(df) * 100\n",
    "summary = pd.DataFrame({\n",
    "    'Task Type': percentages.index,\n",
    "    'Percentage': percentages.values\n",
    "})\n",
    "\n",
    "print(\"\\nGenerated Profiles Percentage:\")\n",
    "print(\"-------------------------------\")\n",
    "print(summary)"
   ]
  },
  {
   "cell_type": "code",
   "execution_count": null,
   "id": "5f6794c3-25fb-47a9-8030-2b2201664cf3",
   "metadata": {},
   "outputs": [],
   "source": []
  }
 ],
 "metadata": {
  "kernelspec": {
   "display_name": "Python 3 (ipykernel)",
   "language": "python",
   "name": "python3"
  },
  "language_info": {
   "codemirror_mode": {
    "name": "ipython",
    "version": 3
   },
   "file_extension": ".py",
   "mimetype": "text/x-python",
   "name": "python",
   "nbconvert_exporter": "python",
   "pygments_lexer": "ipython3",
   "version": "3.8.17"
  }
 },
 "nbformat": 4,
 "nbformat_minor": 5
}
