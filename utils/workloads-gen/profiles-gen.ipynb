{
 "cells": [
  {
   "cell_type": "markdown",
   "id": "44cbb60e-418a-4c54-be4b-a37f7996935b",
   "metadata": {},
   "source": [
    "# Instalamos las dependencias\n",
    "Necesitamos numpy y pandas"
   ]
  },
  {
   "cell_type": "code",
   "execution_count": 9,
   "id": "80645fbf-7c24-48fc-86d9-4fbc55da049f",
   "metadata": {
    "tags": []
   },
   "outputs": [
    {
     "name": "stdout",
     "output_type": "stream",
     "text": [
      "\u001b[33mWARNING: The directory '/home/jovyan/.cache/pip' or its parent directory is not owned or is not writable by the current user. The cache has been disabled. Check the permissions and owner of that directory. If executing pip with sudo, you should use sudo's -H flag.\u001b[0m\u001b[33m\n",
      "\u001b[0mDefaulting to user installation because normal site-packages is not writeable\n",
      "Requirement already satisfied: pandas==0.25.3 in /home/jovyan/.local/lib/python3.8/site-packages (from -r requirements.txt (line 1)) (0.25.3)\n",
      "Requirement already satisfied: numpy~=1.19.0 in /home/jovyan/.local/lib/python3.8/site-packages (from -r requirements.txt (line 2)) (1.19.5)\n",
      "Requirement already satisfied: matplotlib~=3.1.3 in /home/jovyan/.local/lib/python3.8/site-packages (from -r requirements.txt (line 3)) (3.1.3)\n",
      "Requirement already satisfied: networkx in /home/jovyan/.local/lib/python3.8/site-packages (from -r requirements.txt (line 4)) (3.1)\n",
      "Requirement already satisfied: pygraphviz in /home/jovyan/.local/lib/python3.8/site-packages (from -r requirements.txt (line 5)) (1.11)\n",
      "Requirement already satisfied: python-dateutil>=2.6.1 in /opt/conda/envs/myenv/lib/python3.8/site-packages (from pandas==0.25.3->-r requirements.txt (line 1)) (2.8.2)\n",
      "Requirement already satisfied: pytz>=2017.2 in /opt/conda/envs/myenv/lib/python3.8/site-packages (from pandas==0.25.3->-r requirements.txt (line 1)) (2022.7)\n",
      "Requirement already satisfied: cycler>=0.10 in /home/jovyan/.local/lib/python3.8/site-packages (from matplotlib~=3.1.3->-r requirements.txt (line 3)) (0.11.0)\n",
      "Requirement already satisfied: kiwisolver>=1.0.1 in /home/jovyan/.local/lib/python3.8/site-packages (from matplotlib~=3.1.3->-r requirements.txt (line 3)) (1.4.5)\n",
      "Requirement already satisfied: pyparsing!=2.0.4,!=2.1.2,!=2.1.6,>=2.0.1 in /home/jovyan/.local/lib/python3.8/site-packages (from matplotlib~=3.1.3->-r requirements.txt (line 3)) (3.1.1)\n",
      "Requirement already satisfied: six>=1.5 in /opt/conda/envs/myenv/lib/python3.8/site-packages (from python-dateutil>=2.6.1->pandas==0.25.3->-r requirements.txt (line 1)) (1.16.0)\n"
     ]
    }
   ],
   "source": [
    "#!conda install -y numpy pandas \n",
    "!pip install -r requirements.txt"
   ]
  },
  {
   "cell_type": "code",
   "execution_count": 26,
   "id": "358ad7dc-f016-4609-b648-4fa6be726c2e",
   "metadata": {
    "tags": []
   },
   "outputs": [],
   "source": [
    "import src.ProfileGenerator"
   ]
  },
  {
   "cell_type": "code",
   "execution_count": 27,
   "id": "7d7556e5-957e-414e-bd3d-92ff0f5fdb77",
   "metadata": {
    "tags": []
   },
   "outputs": [
    {
     "name": "stdout",
     "output_type": "stream",
     "text": [
      "\n"
     ]
    }
   ],
   "source": [
    "# Crear una instancia del generador de perfiles\n",
    "generator = ProfileGenerator(max_resources=8)\n",
    "\n",
    "# Generar perfiles\n",
    "number_of_profiles = 50\n",
    "generator.generate(number_of_profiles, low_percent=0.3, med_percent=0.4, high_percent=0.3)\n",
    "print('')"
   ]
  },
  {
   "cell_type": "code",
   "execution_count": 30,
   "id": "34facb28-ae1d-4b35-806e-39b5ea49646c",
   "metadata": {
    "tags": []
   },
   "outputs": [
    {
     "data": {
      "text/html": [
       "<div>\n",
       "<style scoped>\n",
       "    .dataframe tbody tr th:only-of-type {\n",
       "        vertical-align: middle;\n",
       "    }\n",
       "\n",
       "    .dataframe tbody tr th {\n",
       "        vertical-align: top;\n",
       "    }\n",
       "\n",
       "    .dataframe thead th {\n",
       "        text-align: right;\n",
       "    }\n",
       "</style>\n",
       "<table border=\"1\" class=\"dataframe\">\n",
       "  <thead>\n",
       "    <tr style=\"text-align: right;\">\n",
       "      <th></th>\n",
       "      <th>type</th>\n",
       "      <th>cpu</th>\n",
       "      <th>com</th>\n",
       "      <th>np</th>\n",
       "      <th>walltime</th>\n",
       "    </tr>\n",
       "  </thead>\n",
       "  <tbody>\n",
       "    <tr>\n",
       "      <th>low_1</th>\n",
       "      <td>parallel_homogeneous</td>\n",
       "      <td>7.006794e+08</td>\n",
       "      <td>346019.011978</td>\n",
       "      <td>1</td>\n",
       "      <td>12.618457</td>\n",
       "    </tr>\n",
       "    <tr>\n",
       "      <th>low_2</th>\n",
       "      <td>parallel_homogeneous</td>\n",
       "      <td>7.606907e+08</td>\n",
       "      <td>327725.036025</td>\n",
       "      <td>1</td>\n",
       "      <td>13.698331</td>\n",
       "    </tr>\n",
       "    <tr>\n",
       "      <th>low_3</th>\n",
       "      <td>parallel_homogeneous</td>\n",
       "      <td>6.622191e+08</td>\n",
       "      <td>956315.928055</td>\n",
       "      <td>1</td>\n",
       "      <td>11.937157</td>\n",
       "    </tr>\n",
       "    <tr>\n",
       "      <th>low_4</th>\n",
       "      <td>parallel_homogeneous</td>\n",
       "      <td>5.881589e+07</td>\n",
       "      <td>690394.392498</td>\n",
       "      <td>1</td>\n",
       "      <td>1.071113</td>\n",
       "    </tr>\n",
       "    <tr>\n",
       "      <th>low_5</th>\n",
       "      <td>parallel_homogeneous</td>\n",
       "      <td>7.404501e+08</td>\n",
       "      <td>743827.310075</td>\n",
       "      <td>1</td>\n",
       "      <td>13.341491</td>\n",
       "    </tr>\n",
       "  </tbody>\n",
       "</table>\n",
       "</div>"
      ],
      "text/plain": [
       "                       type           cpu            com  np   walltime\n",
       "low_1  parallel_homogeneous  7.006794e+08  346019.011978   1  12.618457\n",
       "low_2  parallel_homogeneous  7.606907e+08  327725.036025   1  13.698331\n",
       "low_3  parallel_homogeneous  6.622191e+08  956315.928055   1  11.937157\n",
       "low_4  parallel_homogeneous  5.881589e+07  690394.392498   1   1.071113\n",
       "low_5  parallel_homogeneous  7.404501e+08  743827.310075   1  13.341491"
      ]
     },
     "execution_count": 30,
     "metadata": {},
     "output_type": "execute_result"
    }
   ],
   "source": [
    "# Convertir los perfiles a un DataFrame de pandas y mostrarlo\n",
    "df = generator.to_dataframe()\n",
    "df.head()"
   ]
  },
  {
   "cell_type": "code",
   "execution_count": 31,
   "id": "e1205437-32f0-4a2a-abf8-59929d007990",
   "metadata": {},
   "outputs": [],
   "source": [
    "# Convertir los perfiles a una representación JSON y mostrarla\n",
    "json_representation = generator.to_json()"
   ]
  }
 ],
 "metadata": {
  "kernelspec": {
   "display_name": "Python 3 (ipykernel)",
   "language": "python",
   "name": "python3"
  },
  "language_info": {
   "codemirror_mode": {
    "name": "ipython",
    "version": 3
   },
   "file_extension": ".py",
   "mimetype": "text/x-python",
   "name": "python",
   "nbconvert_exporter": "python",
   "pygments_lexer": "ipython3",
   "version": "3.8.18"
  }
 },
 "nbformat": 4,
 "nbformat_minor": 5
}
