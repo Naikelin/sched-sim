{
 "cells": [
  {
   "cell_type": "markdown",
   "id": "44cbb60e-418a-4c54-be4b-a37f7996935b",
   "metadata": {},
   "source": [
    "# Instalamos las dependencias\n",
    "Necesitamos numpy y pandas"
   ]
  },
  {
   "cell_type": "code",
   "execution_count": 9,
   "id": "80645fbf-7c24-48fc-86d9-4fbc55da049f",
   "metadata": {
    "tags": []
   },
   "outputs": [
    {
     "name": "stdout",
     "output_type": "stream",
     "text": [
      "\u001b[33mWARNING: The directory '/home/jovyan/.cache/pip' or its parent directory is not owned or is not writable by the current user. The cache has been disabled. Check the permissions and owner of that directory. If executing pip with sudo, you should use sudo's -H flag.\u001b[0m\u001b[33m\n",
      "\u001b[0mDefaulting to user installation because normal site-packages is not writeable\n",
      "Requirement already satisfied: pandas==0.25.3 in /home/jovyan/.local/lib/python3.8/site-packages (from -r requirements.txt (line 1)) (0.25.3)\n",
      "Requirement already satisfied: numpy~=1.19.0 in /home/jovyan/.local/lib/python3.8/site-packages (from -r requirements.txt (line 2)) (1.19.5)\n",
      "Requirement already satisfied: matplotlib~=3.1.3 in /home/jovyan/.local/lib/python3.8/site-packages (from -r requirements.txt (line 3)) (3.1.3)\n",
      "Requirement already satisfied: networkx in /home/jovyan/.local/lib/python3.8/site-packages (from -r requirements.txt (line 4)) (3.1)\n",
      "Requirement already satisfied: pygraphviz in /home/jovyan/.local/lib/python3.8/site-packages (from -r requirements.txt (line 5)) (1.11)\n",
      "Requirement already satisfied: python-dateutil>=2.6.1 in /opt/conda/envs/myenv/lib/python3.8/site-packages (from pandas==0.25.3->-r requirements.txt (line 1)) (2.8.2)\n",
      "Requirement already satisfied: pytz>=2017.2 in /opt/conda/envs/myenv/lib/python3.8/site-packages (from pandas==0.25.3->-r requirements.txt (line 1)) (2022.7)\n",
      "Requirement already satisfied: cycler>=0.10 in /home/jovyan/.local/lib/python3.8/site-packages (from matplotlib~=3.1.3->-r requirements.txt (line 3)) (0.11.0)\n",
      "Requirement already satisfied: kiwisolver>=1.0.1 in /home/jovyan/.local/lib/python3.8/site-packages (from matplotlib~=3.1.3->-r requirements.txt (line 3)) (1.4.5)\n",
      "Requirement already satisfied: pyparsing!=2.0.4,!=2.1.2,!=2.1.6,>=2.0.1 in /home/jovyan/.local/lib/python3.8/site-packages (from matplotlib~=3.1.3->-r requirements.txt (line 3)) (3.1.1)\n",
      "Requirement already satisfied: six>=1.5 in /opt/conda/envs/myenv/lib/python3.8/site-packages (from python-dateutil>=2.6.1->pandas==0.25.3->-r requirements.txt (line 1)) (1.16.0)\n"
     ]
    }
   ],
   "source": [
    "#!conda install -y numpy pandas \n",
    "!pip install -r requirements.txt"
   ]
  },
  {
   "cell_type": "code",
   "execution_count": 10,
   "id": "358ad7dc-f016-4609-b648-4fa6be726c2e",
   "metadata": {
    "tags": []
   },
   "outputs": [],
   "source": [
    "import numpy as np\n",
    "import pandas as pd\n",
    "import json\n",
    "\n",
    "class ProfileGenerator:\n",
    "    \n",
    "    def __init__(self):\n",
    "        self.profiles = {}\n",
    "        \n",
    "    def get_np(self, cpu, com):\n",
    "        if cpu < 1e9 and com < 1e9:\n",
    "            return 1\n",
    "        elif cpu > 1e12 and com > 1e12:\n",
    "            return 4\n",
    "        else:\n",
    "            return 2\n",
    "        \n",
    "    def generate_low_profile(self):\n",
    "        cpu = np.random.uniform(1e7, 1e9)\n",
    "        com = np.random.uniform(1024, 1e6)\n",
    "        np_val = self.get_np(cpu, com)\n",
    "        walltime = np.random.uniform(5*60, 15*60)  # 5-15 minutos\n",
    "        profile_name = f\"low_{len(self.profiles) + 1}\"\n",
    "        self.profiles[profile_name] = {\n",
    "            \"type\": \"parallel_homogeneous\",\n",
    "            \"cpu\": cpu,\n",
    "            \"com\": com,\n",
    "            \"np\": np_val,\n",
    "            \"walltime\": walltime\n",
    "        }\n",
    "        return profile_name\n",
    "\n",
    "    def generate_med_profile(self):\n",
    "        if np.random.choice([True, False]):\n",
    "            cpu = np.random.uniform(1e7, 1e9)\n",
    "            com = np.random.uniform(1e9, 1e12)\n",
    "        else:\n",
    "            cpu = np.random.uniform(1e12, 2e12)\n",
    "            com = np.random.uniform(1024, 1e6)\n",
    "        np_val = self.get_np(cpu, com)\n",
    "        walltime = np.random.uniform(30*60, 2*3600)  # 30 minutos - 2 horas\n",
    "        profile_name = f\"med_{len(self.profiles) + 1}\"\n",
    "        self.profiles[profile_name] = {\n",
    "            \"type\": \"parallel_homogeneous\",\n",
    "            \"cpu\": cpu,\n",
    "            \"com\": com,\n",
    "            \"np\": np_val,\n",
    "            \"walltime\": walltime\n",
    "        }\n",
    "        return profile_name\n",
    "\n",
    "    def generate_high_profile(self):\n",
    "        cpu = np.random.uniform(1e12, 2e12)\n",
    "        com = np.random.uniform(1e12, 2e12)  # Corregido para asegurar valores HIGH\n",
    "        np_val = self.get_np(cpu, com)\n",
    "        walltime = np.random.uniform(3*3600, 12*3600)  # 3-12 horas\n",
    "        profile_name = f\"high_{len(self.profiles) + 1}\"\n",
    "        self.profiles[profile_name] = {\n",
    "            \"type\": \"parallel_homogeneous\",\n",
    "            \"cpu\": cpu,\n",
    "            \"com\": com,\n",
    "            \"np\": np_val,\n",
    "            \"walltime\": walltime\n",
    "        }\n",
    "        return profile_name\n",
    "\n",
    "    def generate(self, number_of_profiles=10, low_percent=0.3, med_percent=0.4, high_percent=0.3):\n",
    "        num_low = int(number_of_profiles * low_percent)\n",
    "        num_med = int(number_of_profiles * med_percent)\n",
    "        num_high = number_of_profiles - num_low - num_med\n",
    "\n",
    "        for _ in range(num_low):\n",
    "            self.generate_low_profile()\n",
    "\n",
    "        for _ in range(num_med):\n",
    "            self.generate_med_profile()\n",
    "\n",
    "        for _ in range(num_high):\n",
    "            self.generate_high_profile()\n",
    "        \n",
    "        return self.profiles"
   ]
  },
  {
   "cell_type": "code",
   "execution_count": 11,
   "id": "7d7556e5-957e-414e-bd3d-92ff0f5fdb77",
   "metadata": {
    "tags": []
   },
   "outputs": [
    {
     "name": "stdout",
     "output_type": "stream",
     "text": [
      "\n",
      "Generated Profiles Percentage:\n",
      "-------------------------------\n",
      "  Task Type  Percentage\n",
      "0      high        30.0\n",
      "1       low        30.0\n",
      "2       med        40.0\n"
     ]
    }
   ],
   "source": [
    "generator = ProfileGenerator()\n",
    "profiles = generator.generate(50)\n",
    "with open('profiles.json', 'w') as file:\n",
    "    json.dump(profiles, file)\n",
    "\n",
    "df = pd.DataFrame(profiles).T.reset_index()\n",
    "df['task_type'] = df['index'].str.split('_').str[0]\n",
    "profile_counts = df.groupby('task_type').size()\n",
    "percentages = profile_counts / len(df) * 100\n",
    "summary = pd.DataFrame({\n",
    "    'Task Type': percentages.index,\n",
    "    'Percentage': percentages.values\n",
    "})\n",
    "\n",
    "print(\"\\nGenerated Profiles Percentage:\")\n",
    "print(\"-------------------------------\")\n",
    "print(summary)"
   ]
  },
  {
   "cell_type": "code",
   "execution_count": null,
   "id": "e1205437-32f0-4a2a-abf8-59929d007990",
   "metadata": {},
   "outputs": [],
   "source": []
  }
 ],
 "metadata": {
  "kernelspec": {
   "display_name": "Python 3 (ipykernel)",
   "language": "python",
   "name": "python3"
  },
  "language_info": {
   "codemirror_mode": {
    "name": "ipython",
    "version": 3
   },
   "file_extension": ".py",
   "mimetype": "text/x-python",
   "name": "python",
   "nbconvert_exporter": "python",
   "pygments_lexer": "ipython3",
   "version": "3.8.18"
  }
 },
 "nbformat": 4,
 "nbformat_minor": 5
}
